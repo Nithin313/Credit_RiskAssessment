{
 "cells": [
  {
   "cell_type": "code",
   "execution_count": 1,
   "metadata": {
    "colab": {
     "base_uri": "https://localhost:8080/",
     "height": 34
    },
    "colab_type": "code",
    "id": "KpX-7Yvy1tqj",
    "outputId": "3b92b0e3-ffd5-44df-d5d5-ec4343ac8010"
   },
   "outputs": [
    {
     "name": "stdout",
     "output_type": "stream",
     "text": [
      "C:\\Users\\tejas\\Desktop\\PythonProject\\Python Project - Bank Lending\n"
     ]
    }
   ],
   "source": [
    "import os \n",
    "os.chdir('C:\\\\Users\\\\tejas\\\\Desktop\\\\PythonProject\\\\Python Project - Bank Lending')\n",
    "print(os.getcwd())"
   ]
  },
  {
   "cell_type": "code",
   "execution_count": 2,
   "metadata": {
    "colab": {
     "base_uri": "https://localhost:8080/",
     "height": 1000
    },
    "colab_type": "code",
    "id": "ftZ-3P722A75",
    "outputId": "9a07ad06-1649-49b1-c5ad-fcdc8e0d6726"
   },
   "outputs": [],
   "source": [
    "import pandas as pd \n",
    "import numpy as np \n",
    "import scipy as sp\n",
    "import matplotlib.pyplot as plt\n",
    "import seaborn as sns\n",
    "%matplotlib inline\n",
    "pd.set_option('max_columns', 120)\n",
    "pd.set_option('max_colwidth', 5000)\n",
    "\n",
    "\n",
    "from sklearn import preprocessing,metrics \n",
    "from sklearn.ensemble import RandomForestClassifier\n",
    "from sklearn.neighbors import KNeighborsClassifier\n",
    "from sklearn.metrics import accuracy_score\n",
    "from sklearn import linear_model,svm\n",
    "from sklearn.metrics import average_precision_score\n",
    "from sklearn.metrics import precision_recall_curve"
   ]
  },
  {
   "cell_type": "code",
   "execution_count": 3,
   "metadata": {},
   "outputs": [
    {
     "name": "stderr",
     "output_type": "stream",
     "text": [
      "C:\\ProgramData\\Anaconda3\\lib\\site-packages\\IPython\\core\\interactiveshell.py:3049: DtypeWarning: Columns (17,45,53) have mixed types. Specify dtype option on import or set low_memory=False.\n",
      "  interactivity=interactivity, compiler=compiler, result=result)\n"
     ]
    }
   ],
   "source": [
    "Loan_data= pd.read_csv('XYZ.txt', sep='\\t')"
   ]
  },
  {
   "cell_type": "code",
   "execution_count": 4,
   "metadata": {
    "colab": {
     "base_uri": "https://localhost:8080/",
     "height": 1000
    },
    "colab_type": "code",
    "id": "0KY1rWhmhxuR",
    "outputId": "37a618f1-2213-4ea5-a8ba-355c3770d35b"
   },
   "outputs": [
    {
     "data": {
      "text/plain": [
       "(855969, 73)"
      ]
     },
     "execution_count": 4,
     "metadata": {},
     "output_type": "execute_result"
    }
   ],
   "source": [
    "Loan_data.shape"
   ]
  },
  {
   "cell_type": "markdown",
   "metadata": {
    "colab_type": "text",
    "id": "nGKGDDtPk1B9"
   },
   "source": [
    "# Dropping Variables with Null Values more than 30%"
   ]
  },
  {
   "cell_type": "code",
   "execution_count": 5,
   "metadata": {
    "colab": {
     "base_uri": "https://localhost:8080/",
     "height": 34
    },
    "colab_type": "code",
    "id": "YXrqQw59ie_S",
    "outputId": "bd26fb42-6296-4262-d091-d8ac3d316e55"
   },
   "outputs": [
    {
     "name": "stdout",
     "output_type": "stream",
     "text": [
      "599178.2999999999\n"
     ]
    }
   ],
   "source": [
    "# Dropping Variables with null values more than 30%\n",
    "Cut_off = len(Loan_data)*0.7\n",
    "print(Cut_off)"
   ]
  },
  {
   "cell_type": "code",
   "execution_count": 6,
   "metadata": {
    "colab": {},
    "colab_type": "code",
    "id": "Z3FbH5gojAYf"
   },
   "outputs": [],
   "source": [
    "Loan_data = Loan_data.dropna(thresh= Cut_off, axis =1 )"
   ]
  },
  {
   "cell_type": "code",
   "execution_count": 7,
   "metadata": {
    "colab": {
     "base_uri": "https://localhost:8080/",
     "height": 34
    },
    "colab_type": "code",
    "id": "hY0gbPgsk_gI",
    "outputId": "f3daa3fd-ac70-4f73-e6b6-68a7cecd8fda"
   },
   "outputs": [
    {
     "data": {
      "text/plain": [
       "(855969, 52)"
      ]
     },
     "execution_count": 7,
     "metadata": {},
     "output_type": "execute_result"
    }
   ],
   "source": [
    "Loan_data.shape"
   ]
  },
  {
   "cell_type": "markdown",
   "metadata": {
    "colab_type": "text",
    "id": "joGmxKNnlGG3"
   },
   "source": [
    "# Dropping Variables that are redundant or not availabe at the time of loan application "
   ]
  },
  {
   "cell_type": "code",
   "execution_count": 8,
   "metadata": {
    "colab": {},
    "colab_type": "code",
    "id": "76dNR9B7lNaj"
   },
   "outputs": [],
   "source": [
    "Loan_data= Loan_data.drop(['id','member_id','funded_amnt', 'funded_amnt_inv','title', 'zip_code',\n",
    "                           'out_prncp', 'out_prncp_inv', 'total_pymnt','total_pymnt_inv', 'total_rec_prncp', 'total_rec_int',\n",
    "       'total_rec_late_fee','last_pymnt_d', 'last_pymnt_amnt', 'next_pymnt_d','installment','emp_title'], axis=1)"
   ]
  },
  {
   "cell_type": "code",
   "execution_count": 9,
   "metadata": {
    "colab": {
     "base_uri": "https://localhost:8080/",
     "height": 34
    },
    "colab_type": "code",
    "id": "hE7ovhPqlR0J",
    "outputId": "c84d0d46-b737-44ba-b28e-ae6335d6cca2"
   },
   "outputs": [
    {
     "data": {
      "text/plain": [
       "(855969, 34)"
      ]
     },
     "execution_count": 9,
     "metadata": {},
     "output_type": "execute_result"
    }
   ],
   "source": [
    "Loan_data.shape"
   ]
  },
  {
   "cell_type": "markdown",
   "metadata": {
    "colab_type": "text",
    "id": "plfSmmBxlZjR"
   },
   "source": [
    "# Drop Duplicates if any present"
   ]
  },
  {
   "cell_type": "code",
   "execution_count": 10,
   "metadata": {
    "colab": {},
    "colab_type": "code",
    "id": "RCOpgRONlc2v"
   },
   "outputs": [],
   "source": [
    "Loan_data=Loan_data.drop_duplicates()\n"
   ]
  },
  {
   "cell_type": "code",
   "execution_count": 11,
   "metadata": {
    "colab": {
     "base_uri": "https://localhost:8080/",
     "height": 34
    },
    "colab_type": "code",
    "id": "PiMS5MxEliiz",
    "outputId": "5ab5719f-5ec4-4c23-9cd6-37dbc1fb22eb"
   },
   "outputs": [
    {
     "data": {
      "text/plain": [
       "(855969, 34)"
      ]
     },
     "execution_count": 11,
     "metadata": {},
     "output_type": "execute_result"
    }
   ],
   "source": [
    "Loan_data.shape"
   ]
  },
  {
   "cell_type": "markdown",
   "metadata": {},
   "source": [
    "# Dropping variables with one unique value"
   ]
  },
  {
   "cell_type": "code",
   "execution_count": 12,
   "metadata": {},
   "outputs": [],
   "source": [
    "unique = Loan_data.nunique()\n",
    "unique = unique[unique.values == 1]\n",
    "Loan_data.drop(labels = list(unique.index), axis =1, inplace=True)"
   ]
  },
  {
   "cell_type": "code",
   "execution_count": 13,
   "metadata": {},
   "outputs": [
    {
     "data": {
      "text/plain": [
       "(855969, 33)"
      ]
     },
     "execution_count": 13,
     "metadata": {},
     "output_type": "execute_result"
    }
   ],
   "source": [
    "Loan_data.shape"
   ]
  },
  {
   "cell_type": "code",
   "execution_count": 14,
   "metadata": {
    "colab": {
     "base_uri": "https://localhost:8080/",
     "height": 54
    },
    "colab_type": "code",
    "id": "wXX6ayj3lmbW",
    "outputId": "d1e7f222-3e0c-461a-9ef2-03f55c6ed763"
   },
   "outputs": [
    {
     "name": "stdout",
     "output_type": "stream",
     "text": [
      "['loan_amnt', 'term', 'int_rate', 'grade', 'sub_grade', 'emp_length', 'home_ownership', 'annual_inc', 'verification_status', 'issue_d', 'pymnt_plan', 'purpose', 'addr_state', 'dti', 'delinq_2yrs', 'earliest_cr_line', 'inq_last_6mths', 'open_acc', 'pub_rec', 'revol_bal', 'revol_util', 'total_acc', 'initial_list_status', 'recoveries', 'collection_recovery_fee', 'last_credit_pull_d', 'collections_12_mths_ex_med', 'application_type', 'acc_now_delinq', 'tot_coll_amt', 'tot_cur_bal', 'total_rev_hi_lim', 'default_ind']\n"
     ]
    }
   ],
   "source": [
    "print(Loan_data.columns.tolist())"
   ]
  },
  {
   "cell_type": "markdown",
   "metadata": {
    "colab_type": "text",
    "id": "y6qmC3WGlwxu"
   },
   "source": [
    "# Data Preparation  \n",
    "Null Value Treatment "
   ]
  },
  {
   "cell_type": "code",
   "execution_count": 15,
   "metadata": {
    "colab": {
     "base_uri": "https://localhost:8080/",
     "height": 612
    },
    "colab_type": "code",
    "id": "9LCExvxUlsQc",
    "outputId": "15f8d8d5-4efd-428a-dac7-26647f58ff2c"
   },
   "outputs": [
    {
     "data": {
      "text/plain": [
       "loan_amnt                         0\n",
       "term                              0\n",
       "int_rate                          0\n",
       "grade                             0\n",
       "sub_grade                         0\n",
       "emp_length                    43061\n",
       "home_ownership                    0\n",
       "annual_inc                        0\n",
       "verification_status               0\n",
       "issue_d                           0\n",
       "pymnt_plan                        0\n",
       "purpose                           0\n",
       "addr_state                        0\n",
       "dti                               0\n",
       "delinq_2yrs                       0\n",
       "earliest_cr_line                  0\n",
       "inq_last_6mths                    0\n",
       "open_acc                          0\n",
       "pub_rec                           0\n",
       "revol_bal                         0\n",
       "revol_util                      446\n",
       "total_acc                         0\n",
       "initial_list_status               0\n",
       "recoveries                        0\n",
       "collection_recovery_fee           0\n",
       "last_credit_pull_d               50\n",
       "collections_12_mths_ex_med       56\n",
       "application_type                  0\n",
       "acc_now_delinq                    0\n",
       "tot_coll_amt                  67313\n",
       "tot_cur_bal                   67313\n",
       "total_rev_hi_lim              67313\n",
       "default_ind                       0\n",
       "dtype: int64"
      ]
     },
     "execution_count": 15,
     "metadata": {},
     "output_type": "execute_result"
    }
   ],
   "source": [
    "Loan_data.isnull().sum()"
   ]
  },
  {
   "cell_type": "code",
   "execution_count": 16,
   "metadata": {
    "colab": {},
    "colab_type": "code",
    "id": "-5wP1PWHl-X6"
   },
   "outputs": [],
   "source": [
    "categorical_col=['emp_length','last_credit_pull_d','collections_12_mths_ex_med']\n",
    "for col in categorical_col:\n",
    "    Loan_data[col]=Loan_data[col].fillna(Loan_data[col].mode()[0])"
   ]
  },
  {
   "cell_type": "code",
   "execution_count": 17,
   "metadata": {
    "colab": {},
    "colab_type": "code",
    "id": "D4mCL9LpmCVF"
   },
   "outputs": [],
   "source": [
    "Contiuous_col=['revol_util','tot_coll_amt','tot_cur_bal','total_rev_hi_lim']\n",
    "for col in Contiuous_col:\n",
    "    Loan_data[col]= Loan_data[col].fillna(Loan_data[col].median())"
   ]
  },
  {
   "cell_type": "code",
   "execution_count": 18,
   "metadata": {
    "colab": {
     "base_uri": "https://localhost:8080/",
     "height": 612
    },
    "colab_type": "code",
    "id": "vBpH-LJgmGIR",
    "outputId": "6e16c857-5144-4085-977c-361f7942f7f4"
   },
   "outputs": [
    {
     "data": {
      "text/plain": [
       "loan_amnt                     0\n",
       "term                          0\n",
       "int_rate                      0\n",
       "grade                         0\n",
       "sub_grade                     0\n",
       "emp_length                    0\n",
       "home_ownership                0\n",
       "annual_inc                    0\n",
       "verification_status           0\n",
       "issue_d                       0\n",
       "pymnt_plan                    0\n",
       "purpose                       0\n",
       "addr_state                    0\n",
       "dti                           0\n",
       "delinq_2yrs                   0\n",
       "earliest_cr_line              0\n",
       "inq_last_6mths                0\n",
       "open_acc                      0\n",
       "pub_rec                       0\n",
       "revol_bal                     0\n",
       "revol_util                    0\n",
       "total_acc                     0\n",
       "initial_list_status           0\n",
       "recoveries                    0\n",
       "collection_recovery_fee       0\n",
       "last_credit_pull_d            0\n",
       "collections_12_mths_ex_med    0\n",
       "application_type              0\n",
       "acc_now_delinq                0\n",
       "tot_coll_amt                  0\n",
       "tot_cur_bal                   0\n",
       "total_rev_hi_lim              0\n",
       "default_ind                   0\n",
       "dtype: int64"
      ]
     },
     "execution_count": 18,
     "metadata": {},
     "output_type": "execute_result"
    }
   ],
   "source": [
    "Loan_data.isna().sum()"
   ]
  },
  {
   "cell_type": "markdown",
   "metadata": {
    "colab_type": "text",
    "id": "7sHRnpiPsBAx"
   },
   "source": [
    "# Feature Insights and Data Visualization"
   ]
  },
  {
   "cell_type": "code",
   "execution_count": 19,
   "metadata": {
    "colab": {},
    "colab_type": "code",
    "id": "BqFaS7KfmOU1"
   },
   "outputs": [],
   "source": [
    "def plot_var(col_name, full_name,continuous):\n",
    "    f,(ax1,ax2) = plt.subplots(nrows=1, ncols =2 , figsize = (12,3), dpi = 90)\n",
    "     \n",
    "    if continuous:\n",
    "            sns.distplot(Loan_data.loc[Loan_data[col_name].notnull(), col_name], kde=False, ax=ax1)\n",
    "    else :\n",
    "        sns.countplot(Loan_data[col_name], order= sorted(Loan_data[col_name].unique()), color='#483D8B', saturation = 1 , ax= ax1)\n",
    "        ax1.set_xlabel(full_name)\n",
    "        ax1.set_ylabel('Count')\n",
    "        ax1.set_title(full_name)\n",
    "        \n",
    "    \n",
    "    if continuous:\n",
    "        sns.boxplot(x= 'default_ind',y=col_name, data=Loan_data, ax = ax2)\n",
    "        ax2.set_ylabel('')\n",
    "        ax2.set_title(full_name+ 'default_ind')\n",
    "        ax2.set_xlabel('Default')\n",
    "        ax2.set_ylabel(full_name)\n",
    "    else:\n",
    "        Default_rates = Loan_data.groupby(col_name)['default_ind'].value_counts(normalize=True).loc[:,1]\n",
    "        sns.barplot(x=Default_rates.index, y=Default_rates.values, color='#48D1CC', saturation=1, ax=ax2)\n",
    "        ax2.set_xlabel(full_name)\n",
    "        ax2.set_ylabel('Fraction of Loans Defaulted')\n",
    "         \n",
    "    \n",
    "    ax2.set_title('Default_Rate by ' + full_name)\n",
    "   \n",
    "    \n",
    "    plt.tight_layout()"
   ]
  },
  {
   "cell_type": "markdown",
   "metadata": {
    "colab_type": "text",
    "id": "6dwK-PpLsxAj"
   },
   "source": [
    "# Loan Amount"
   ]
  },
  {
   "cell_type": "code",
   "execution_count": 20,
   "metadata": {
    "colab": {
     "base_uri": "https://localhost:8080/",
     "height": 278
    },
    "colab_type": "code",
    "id": "oyRi6xZdst89",
    "outputId": "cd74d25f-7c06-4aba-a7f3-b1c671c53d75"
   },
   "outputs": [
    {
     "data": {
      "image/png": "[encoded data removed]",
      "text/plain": [
       "<Figure size 1080x270 with 2 Axes>"
      ]
     },
     "metadata": {
      "needs_background": "light"
     },
     "output_type": "display_data"
    }
   ],
   "source": [
    "plot_var('loan_amnt', 'Loan_Amount', continuous= True)"
   ]
  },
  {
   "cell_type": "code",
   "execution_count": 21,
   "metadata": {
    "colab": {
     "base_uri": "https://localhost:8080/",
     "height": 142
    },
    "colab_type": "code",
    "id": "I2FB9EhMs12D",
    "outputId": "093ee98a-687b-4cdb-d22f-9b9df4bf8157"
   },
   "outputs": [
    {
     "data": {
      "text/html": [
       "<div>\n",
       "<style scoped>\n",
       "    .dataframe tbody tr th:only-of-type {\n",
       "        vertical-align: middle;\n",
       "    }\n",
       "\n",
       "    .dataframe tbody tr th {\n",
       "        vertical-align: top;\n",
       "    }\n",
       "\n",
       "    .dataframe thead th {\n",
       "        text-align: right;\n",
       "    }\n",
       "</style>\n",
       "<table border=\"1\" class=\"dataframe\">\n",
       "  <thead>\n",
       "    <tr style=\"text-align: right;\">\n",
       "      <th></th>\n",
       "      <th>count</th>\n",
       "      <th>mean</th>\n",
       "      <th>std</th>\n",
       "      <th>min</th>\n",
       "      <th>25%</th>\n",
       "      <th>50%</th>\n",
       "      <th>75%</th>\n",
       "      <th>max</th>\n",
       "    </tr>\n",
       "    <tr>\n",
       "      <th>default_ind</th>\n",
       "      <th></th>\n",
       "      <th></th>\n",
       "      <th></th>\n",
       "      <th></th>\n",
       "      <th></th>\n",
       "      <th></th>\n",
       "      <th></th>\n",
       "      <th></th>\n",
       "    </tr>\n",
       "  </thead>\n",
       "  <tbody>\n",
       "    <tr>\n",
       "      <th>0</th>\n",
       "      <td>809502.0</td>\n",
       "      <td>14755.476206</td>\n",
       "      <td>8427.151810</td>\n",
       "      <td>500.0</td>\n",
       "      <td>8000.0</td>\n",
       "      <td>13000.0</td>\n",
       "      <td>20000.0</td>\n",
       "      <td>35000.0</td>\n",
       "    </tr>\n",
       "    <tr>\n",
       "      <th>1</th>\n",
       "      <td>46467.0</td>\n",
       "      <td>14573.018486</td>\n",
       "      <td>8391.928489</td>\n",
       "      <td>900.0</td>\n",
       "      <td>8000.0</td>\n",
       "      <td>12700.0</td>\n",
       "      <td>20000.0</td>\n",
       "      <td>35000.0</td>\n",
       "    </tr>\n",
       "  </tbody>\n",
       "</table>\n",
       "</div>"
      ],
      "text/plain": [
       "                count          mean          std    min     25%      50%  \\\n",
       "default_ind                                                                \n",
       "0            809502.0  14755.476206  8427.151810  500.0  8000.0  13000.0   \n",
       "1             46467.0  14573.018486  8391.928489  900.0  8000.0  12700.0   \n",
       "\n",
       "                 75%      max  \n",
       "default_ind                    \n",
       "0            20000.0  35000.0  \n",
       "1            20000.0  35000.0  "
      ]
     },
     "execution_count": 21,
     "metadata": {},
     "output_type": "execute_result"
    }
   ],
   "source": [
    "Loan_data.groupby('default_ind')['loan_amnt'].describe()"
   ]
  },
  {
   "cell_type": "markdown",
   "metadata": {
    "colab_type": "text",
    "id": "tTzMKc1KtW0m"
   },
   "source": [
    "Inference:\n",
    "Multimodal Distribution observed.\n",
    "The Loan amount is shown for the defaulters and non defaulters using the boxplot.It's seen that mean loan amount disbursed remains almost the same differing  by $182.4577. The Maximum Loan Amount disbursed for both the defaulters and non-defaulters is the same\n",
    "\n",
    " "
   ]
  },
  {
   "cell_type": "markdown",
   "metadata": {
    "colab_type": "text",
    "id": "Iu4mcmAatbQx"
   },
   "source": [
    "# Interest Rate"
   ]
  },
  {
   "cell_type": "code",
   "execution_count": 22,
   "metadata": {
    "colab": {
     "base_uri": "https://localhost:8080/",
     "height": 278
    },
    "colab_type": "code",
    "id": "u9QZq6QztS0S",
    "outputId": "5eeccdfd-f6c4-43d5-ff24-d2fc76efddd1"
   },
   "outputs": [
    {
     "data": {
      "image/png": "[encoded data removed]",
      "text/plain": [
       "<Figure size 1080x270 with 2 Axes>"
      ]
     },
     "metadata": {
      "needs_background": "light"
     },
     "output_type": "display_data"
    }
   ],
   "source": [
    "plot_var('int_rate','Interest_rate', continuous= True)"
   ]
  },
  {
   "cell_type": "code",
   "execution_count": 23,
   "metadata": {
    "colab": {
     "base_uri": "https://localhost:8080/",
     "height": 142
    },
    "colab_type": "code",
    "id": "eMwdz2nDthZ-",
    "outputId": "78245865-4905-4444-b8a9-44a28ca63b6b"
   },
   "outputs": [
    {
     "data": {
      "text/html": [
       "<div>\n",
       "<style scoped>\n",
       "    .dataframe tbody tr th:only-of-type {\n",
       "        vertical-align: middle;\n",
       "    }\n",
       "\n",
       "    .dataframe tbody tr th {\n",
       "        vertical-align: top;\n",
       "    }\n",
       "\n",
       "    .dataframe thead th {\n",
       "        text-align: right;\n",
       "    }\n",
       "</style>\n",
       "<table border=\"1\" class=\"dataframe\">\n",
       "  <thead>\n",
       "    <tr style=\"text-align: right;\">\n",
       "      <th></th>\n",
       "      <th>count</th>\n",
       "      <th>mean</th>\n",
       "      <th>std</th>\n",
       "      <th>min</th>\n",
       "      <th>25%</th>\n",
       "      <th>50%</th>\n",
       "      <th>75%</th>\n",
       "      <th>max</th>\n",
       "    </tr>\n",
       "    <tr>\n",
       "      <th>default_ind</th>\n",
       "      <th></th>\n",
       "      <th></th>\n",
       "      <th></th>\n",
       "      <th></th>\n",
       "      <th></th>\n",
       "      <th></th>\n",
       "      <th></th>\n",
       "      <th></th>\n",
       "    </tr>\n",
       "  </thead>\n",
       "  <tbody>\n",
       "    <tr>\n",
       "      <th>0</th>\n",
       "      <td>809502.0</td>\n",
       "      <td>13.030057</td>\n",
       "      <td>4.316366</td>\n",
       "      <td>5.32</td>\n",
       "      <td>9.76</td>\n",
       "      <td>12.69</td>\n",
       "      <td>15.61</td>\n",
       "      <td>28.99</td>\n",
       "    </tr>\n",
       "    <tr>\n",
       "      <th>1</th>\n",
       "      <td>46467.0</td>\n",
       "      <td>16.019092</td>\n",
       "      <td>4.301283</td>\n",
       "      <td>5.42</td>\n",
       "      <td>13.05</td>\n",
       "      <td>15.80</td>\n",
       "      <td>18.92</td>\n",
       "      <td>28.99</td>\n",
       "    </tr>\n",
       "  </tbody>\n",
       "</table>\n",
       "</div>"
      ],
      "text/plain": [
       "                count       mean       std   min    25%    50%    75%    max\n",
       "default_ind                                                                 \n",
       "0            809502.0  13.030057  4.316366  5.32   9.76  12.69  15.61  28.99\n",
       "1             46467.0  16.019092  4.301283  5.42  13.05  15.80  18.92  28.99"
      ]
     },
     "execution_count": 23,
     "metadata": {},
     "output_type": "execute_result"
    }
   ],
   "source": [
    "Loan_data.groupby('default_ind')['int_rate'].describe()"
   ]
  },
  {
   "cell_type": "markdown",
   "metadata": {
    "colab_type": "text",
    "id": "rKHWsk0FtrnA"
   },
   "source": [
    "Inference:Skewed Disturbtion \n",
    "The Interest Rate for defaulters and non-defaulters is shown through a box plot . it's seen that the defaulters have an have mean interest rate of 15.8 % (min (5.32%), max(28.99). The non-defaulters having a mean interest rate of 12.69% (min(5.42%),max(28.99))\n",
    "\n",
    " \n",
    "\n"
   ]
  },
  {
   "cell_type": "markdown",
   "metadata": {
    "colab_type": "text",
    "id": "Bsk7ARp3tzv0"
   },
   "source": [
    "# Loan Term"
   ]
  },
  {
   "cell_type": "code",
   "execution_count": 24,
   "metadata": {
    "colab": {
     "base_uri": "https://localhost:8080/",
     "height": 278
    },
    "colab_type": "code",
    "id": "EH2qsfFmtmFT",
    "outputId": "b23ae088-7285-4595-a1f9-ef54a5f933d5"
   },
   "outputs": [
    {
     "data": {
      "image/png": "[encoded data removed]",
      "text/plain": [
       "<Figure size 1080x270 with 2 Axes>"
      ]
     },
     "metadata": {
      "needs_background": "light"
     },
     "output_type": "display_data"
    }
   ],
   "source": [
    "plot_var('term','Term', continuous= False)"
   ]
  },
  {
   "cell_type": "code",
   "execution_count": 25,
   "metadata": {},
   "outputs": [
    {
     "data": {
      "text/plain": [
       "36    600221\n",
       "60    255748\n",
       "Name: term, dtype: int64"
      ]
     },
     "execution_count": 25,
     "metadata": {},
     "output_type": "execute_result"
    }
   ],
   "source": [
    "Loan_data.term = Loan_data.term.str.replace('months', '').astype(np.int)\n",
    "Loan_data.term.value_counts()"
   ]
  },
  {
   "cell_type": "code",
   "execution_count": 26,
   "metadata": {
    "colab": {
     "base_uri": "https://localhost:8080/",
     "height": 119
    },
    "colab_type": "code",
    "id": "tROPLv_ht5l_",
    "outputId": "e893bca3-f102-4bf4-a705-e2c5a8a99d42"
   },
   "outputs": [
    {
     "data": {
      "text/plain": [
       "default_ind  term\n",
       "0            36      0.704659\n",
       "             60      0.295341\n",
       "1            36      0.641272\n",
       "             60      0.358728\n",
       "Name: term, dtype: float64"
      ]
     },
     "execution_count": 26,
     "metadata": {},
     "output_type": "execute_result"
    }
   ],
   "source": [
    "Loan_data.groupby('default_ind')['term'].value_counts(normalize=True)"
   ]
  },
  {
   "cell_type": "markdown",
   "metadata": {
    "colab_type": "text",
    "id": "MPeBTLfGtwIJ"
   },
   "source": [
    "Inference:\n",
    "Loan Term is plotted against Defaulted using bar plot . Its seen that for the term from 36 months the fraction of loan defaulted is around 5% and for the term 60 months  it is over 6%"
   ]
  },
  {
   "cell_type": "markdown",
   "metadata": {
    "colab_type": "text",
    "id": "RoUncZgRuMML"
   },
   "source": [
    "# Grade"
   ]
  },
  {
   "cell_type": "code",
   "execution_count": 27,
   "metadata": {
    "colab": {
     "base_uri": "https://localhost:8080/",
     "height": 278
    },
    "colab_type": "code",
    "id": "SIoh5YxUuATO",
    "outputId": "347c9f8f-cf4a-4626-873e-c7cfd9bb438a"
   },
   "outputs": [
    {
     "data": {
      "image/png": "[encoded data removed]",
      "text/plain": [
       "<Figure size 1080x270 with 2 Axes>"
      ]
     },
     "metadata": {
      "needs_background": "light"
     },
     "output_type": "display_data"
    }
   ],
   "source": [
    "plot_var('grade','Grade', continuous= False)"
   ]
  },
  {
   "cell_type": "code",
   "execution_count": 28,
   "metadata": {},
   "outputs": [],
   "source": [
    "Loan_data['grade'] = Loan_data['grade'].map({'A':1,'B':2,'C':3,'D':4,'E':5,'F':6,'G':7})\n"
   ]
  },
  {
   "cell_type": "code",
   "execution_count": 26,
   "metadata": {},
   "outputs": [
    {
     "data": {
      "text/plain": [
       "grade  default_ind\n",
       "A      0              143001\n",
       "       1                2664\n",
       "B      0              238281\n",
       "       1                9717\n",
       "C      0              223853\n",
       "       1               13002\n",
       "D      0              122004\n",
       "       1               10798\n",
       "E      0               59989\n",
       "       1                6459\n",
       "F      0               18315\n",
       "       1                3013\n",
       "G      0                4059\n",
       "       1                 814\n",
       "Name: default_ind, dtype: int64"
      ]
     },
     "execution_count": 26,
     "metadata": {},
     "output_type": "execute_result"
    }
   ],
   "source": [
    "Loan_data.groupby('grade')['default_ind'].value_counts()"
   ]
  },
  {
   "cell_type": "markdown",
   "metadata": {
    "colab_type": "text",
    "id": "zV0WDkHWuX-3"
   },
   "source": [
    "Inference:\n",
    "Grade is plotted is against Defaulters using barplot . The customers are segmented grade wise with their risk in the descending order (G>F>E>D>C>B>A)."
   ]
  },
  {
   "cell_type": "markdown",
   "metadata": {
    "colab_type": "text",
    "id": "6MiuenuHvzHh"
   },
   "source": [
    "# Employment Length"
   ]
  },
  {
   "cell_type": "code",
   "execution_count": 29,
   "metadata": {
    "colab": {},
    "colab_type": "code",
    "id": "2LiyJvZYuQol"
   },
   "outputs": [],
   "source": [
    "Loan_data['emp_length'].replace(to_replace='10+ years', value='10 years', inplace=True)"
   ]
  },
  {
   "cell_type": "code",
   "execution_count": 30,
   "metadata": {
    "colab": {},
    "colab_type": "code",
    "id": "LtFRf4ELv6e7"
   },
   "outputs": [],
   "source": [
    "Loan_data['emp_length'].replace('< 1 year', '0 years', inplace=True)"
   ]
  },
  {
   "cell_type": "code",
   "execution_count": 31,
   "metadata": {
    "colab": {},
    "colab_type": "code",
    "id": "IgN2twaFv-pQ"
   },
   "outputs": [],
   "source": [
    "def emp(s):\n",
    "    if pd.isnull(s):\n",
    "        return s\n",
    "    else:\n",
    "        return np.int8(s.split()[0])"
   ]
  },
  {
   "cell_type": "code",
   "execution_count": 32,
   "metadata": {
    "colab": {},
    "colab_type": "code",
    "id": "WBu2ZNadwBlV"
   },
   "outputs": [],
   "source": [
    "Loan_data['emp_length'] = Loan_data['emp_length'].apply(emp)"
   ]
  },
  {
   "cell_type": "code",
   "execution_count": 33,
   "metadata": {
    "colab": {
     "base_uri": "https://localhost:8080/",
     "height": 539
    },
    "colab_type": "code",
    "id": "LOqG70s8wFkj",
    "outputId": "432869a0-b2b8-4bd3-c004-cedeea14282d"
   },
   "outputs": [
    {
     "data": {
      "image/png": "[encoded data removed]",
      "text/plain": [
       "<Figure size 1080x270 with 2 Axes>"
      ]
     },
     "metadata": {
      "needs_background": "light"
     },
     "output_type": "display_data"
    }
   ],
   "source": [
    "plot_var('emp_length','Employment_Length', continuous= False)"
   ]
  },
  {
   "cell_type": "code",
   "execution_count": 34,
   "metadata": {
    "colab": {
     "base_uri": "https://localhost:8080/",
     "height": 142
    },
    "colab_type": "code",
    "id": "JqO_aswexAO6",
    "outputId": "d23ff0ae-5700-4856-c9f0-09c4c59077af"
   },
   "outputs": [
    {
     "data": {
      "text/html": [
       "<div>\n",
       "<style scoped>\n",
       "    .dataframe tbody tr th:only-of-type {\n",
       "        vertical-align: middle;\n",
       "    }\n",
       "\n",
       "    .dataframe tbody tr th {\n",
       "        vertical-align: top;\n",
       "    }\n",
       "\n",
       "    .dataframe thead th {\n",
       "        text-align: right;\n",
       "    }\n",
       "</style>\n",
       "<table border=\"1\" class=\"dataframe\">\n",
       "  <thead>\n",
       "    <tr style=\"text-align: right;\">\n",
       "      <th></th>\n",
       "      <th>count</th>\n",
       "      <th>mean</th>\n",
       "      <th>std</th>\n",
       "      <th>min</th>\n",
       "      <th>25%</th>\n",
       "      <th>50%</th>\n",
       "      <th>75%</th>\n",
       "      <th>max</th>\n",
       "    </tr>\n",
       "    <tr>\n",
       "      <th>default_ind</th>\n",
       "      <th></th>\n",
       "      <th></th>\n",
       "      <th></th>\n",
       "      <th></th>\n",
       "      <th></th>\n",
       "      <th></th>\n",
       "      <th></th>\n",
       "      <th></th>\n",
       "    </tr>\n",
       "  </thead>\n",
       "  <tbody>\n",
       "    <tr>\n",
       "      <th>0</th>\n",
       "      <td>809502.0</td>\n",
       "      <td>6.230066</td>\n",
       "      <td>3.676176</td>\n",
       "      <td>0.0</td>\n",
       "      <td>3.0</td>\n",
       "      <td>7.0</td>\n",
       "      <td>10.0</td>\n",
       "      <td>10.0</td>\n",
       "    </tr>\n",
       "    <tr>\n",
       "      <th>1</th>\n",
       "      <td>46467.0</td>\n",
       "      <td>6.037059</td>\n",
       "      <td>3.644834</td>\n",
       "      <td>0.0</td>\n",
       "      <td>3.0</td>\n",
       "      <td>6.0</td>\n",
       "      <td>10.0</td>\n",
       "      <td>10.0</td>\n",
       "    </tr>\n",
       "  </tbody>\n",
       "</table>\n",
       "</div>"
      ],
      "text/plain": [
       "                count      mean       std  min  25%  50%   75%   max\n",
       "default_ind                                                         \n",
       "0            809502.0  6.230066  3.676176  0.0  3.0  7.0  10.0  10.0\n",
       "1             46467.0  6.037059  3.644834  0.0  3.0  6.0  10.0  10.0"
      ]
     },
     "execution_count": 34,
     "metadata": {},
     "output_type": "execute_result"
    }
   ],
   "source": [
    "Loan_data.groupby('default_ind')['emp_length'].describe()"
   ]
  },
  {
   "cell_type": "markdown",
   "metadata": {
    "colab_type": "text",
    "id": "H-8fe9fUxQY-"
   },
   "source": [
    "Inference: \n",
    "\n",
    "Employment Length is plotted against default . its seen that the loan default across the Tenure doesnt vary much (5%-6%)\n",
    "\n",
    "Recommendation:   Drop Variable \n"
   ]
  },
  {
   "cell_type": "markdown",
   "metadata": {
    "colab_type": "text",
    "id": "wXrRyw3qxO8n"
   },
   "source": [
    "# Home Ownership"
   ]
  },
  {
   "cell_type": "code",
   "execution_count": 35,
   "metadata": {
    "colab": {},
    "colab_type": "code",
    "id": "a5edw2UpxNT0"
   },
   "outputs": [],
   "source": [
    "Loan_data['home_ownership'].replace(['NONE','ANY','OTHER','RENT'],0, inplace= True)\n",
    "Loan_data['home_ownership'].replace(['MORTGAGE'],1, inplace= True)\n",
    "Loan_data['home_ownership'].replace(['OWN'],2, inplace= True)"
   ]
  },
  {
   "cell_type": "code",
   "execution_count": 36,
   "metadata": {
    "colab": {
     "base_uri": "https://localhost:8080/",
     "height": 539
    },
    "colab_type": "code",
    "id": "HQPuGSbaxLIt",
    "outputId": "46126968-fb21-4071-98c6-66fda4d9b4ac"
   },
   "outputs": [
    {
     "data": {
      "image/png": "[encoded data removed]",
      "text/plain": [
       "<Figure size 1080x270 with 2 Axes>"
      ]
     },
     "metadata": {
      "needs_background": "light"
     },
     "output_type": "display_data"
    }
   ],
   "source": [
    "plot_var('home_ownership', 'Home_Ownership', continuous = False)\n",
    "#plot_treatvar('home_ownership', 'Home_Ownership', continuous = False)"
   ]
  },
  {
   "cell_type": "code",
   "execution_count": 37,
   "metadata": {
    "colab": {
     "base_uri": "https://localhost:8080/",
     "height": 187
    },
    "colab_type": "code",
    "id": "E8lJr0LLxsiB",
    "outputId": "6c94e5f9-ef8c-4b90-aee3-4c5d74e086dd"
   },
   "outputs": [
    {
     "data": {
      "text/plain": [
       "default_ind  home_ownership\n",
       "0            1                 408730\n",
       "             0                 320771\n",
       "             2                  80001\n",
       "1            0                  21956\n",
       "             1                  20376\n",
       "             2                   4135\n",
       "Name: home_ownership, dtype: int64"
      ]
     },
     "execution_count": 37,
     "metadata": {},
     "output_type": "execute_result"
    }
   ],
   "source": [
    "Loan_data.groupby('default_ind')['home_ownership'].value_counts()"
   ]
  },
  {
   "cell_type": "markdown",
   "metadata": {
    "colab_type": "text",
    "id": "1MlKf6Elx1jK"
   },
   "source": [
    "Inference:\n",
    "The type of Home Ownership is plotted against Loan Defaults using a bar plot. It can be inferred from the above graph the Own House and Mortaged House holders are at a low risk of defaulting in comparison with the ones living in Rent or Others."
   ]
  },
  {
   "cell_type": "markdown",
   "metadata": {
    "colab_type": "text",
    "id": "EaHCrm7Zx7WB"
   },
   "source": [
    "# Annual Income "
   ]
  },
  {
   "cell_type": "code",
   "execution_count": 38,
   "metadata": {
    "colab": {
     "base_uri": "https://localhost:8080/",
     "height": 278
    },
    "colab_type": "code",
    "id": "8fVHIH20x0kE",
    "outputId": "7d78f512-ce12-48cb-dd79-823bff5b029b"
   },
   "outputs": [
    {
     "data": {
      "image/png": "[encoded data removed]",
      "text/plain": [
       "<Figure size 1080x270 with 2 Axes>"
      ]
     },
     "metadata": {
      "needs_background": "light"
     },
     "output_type": "display_data"
    }
   ],
   "source": [
    "plot_var('annual_inc', 'Annual_Income', continuous=True)"
   ]
  },
  {
   "cell_type": "markdown",
   "metadata": {
    "colab_type": "text",
    "id": "wJRp7nMqyE5p"
   },
   "source": [
    "Inference: Skewed distibution, presence of outliers \n",
    "\n",
    "Annual Income is plotted against loan Defaulted using box plot \n",
    "\n",
    "Recommendation: Outlier treatment and Transformation "
   ]
  },
  {
   "cell_type": "markdown",
   "metadata": {
    "colab_type": "text",
    "id": "rJnSIfnvySZz"
   },
   "source": [
    "Performing Logarithmic Transformation to address Skewness"
   ]
  },
  {
   "cell_type": "code",
   "execution_count": 39,
   "metadata": {
    "colab": {},
    "colab_type": "code",
    "id": "RKDIb7XpyB01"
   },
   "outputs": [],
   "source": [
    "# Loan_data['log_annual_inc'] = Loan_data['annual_inc'].apply(lambda x: np.log10(x+1))\n",
    "\n",
    "# Loan1['log_annual_inc'] = Loan1['annual_inc'].apply(lambda x: np.log10(x+1))"
   ]
  },
  {
   "cell_type": "markdown",
   "metadata": {
    "colab_type": "text",
    "id": "Mzg--s8jyowf"
   },
   "source": [
    "# Verification Status of Salary"
   ]
  },
  {
   "cell_type": "code",
   "execution_count": 40,
   "metadata": {
    "colab": {
     "base_uri": "https://localhost:8080/",
     "height": 278
    },
    "colab_type": "code",
    "id": "6iZK9xsrynC4",
    "outputId": "bd8d644d-ceef-44bf-e398-ad2608d0f28f"
   },
   "outputs": [
    {
     "data": {
      "image/png": "[encoded data removed]",
      "text/plain": [
       "<Figure size 1080x270 with 2 Axes>"
      ]
     },
     "metadata": {
      "needs_background": "light"
     },
     "output_type": "display_data"
    }
   ],
   "source": [
    "plot_var('verification_status', 'Verification_Status', continuous=False)"
   ]
  },
  {
   "cell_type": "code",
   "execution_count": 41,
   "metadata": {},
   "outputs": [
    {
     "data": {
      "text/plain": [
       "0           Verified\n",
       "1    Source Verified\n",
       "2       Not Verified\n",
       "3    Source Verified\n",
       "4    Source Verified\n",
       "Name: verification_status, dtype: object"
      ]
     },
     "execution_count": 41,
     "metadata": {},
     "output_type": "execute_result"
    }
   ],
   "source": [
    "Loan_data['verification_status'].head()"
   ]
  },
  {
   "cell_type": "code",
   "execution_count": 42,
   "metadata": {},
   "outputs": [],
   "source": [
    "Loan_data['verification_status'].replace(['Not Verified'],0, inplace= True)\n",
    "Loan_data['verification_status'].replace(['Source Verified'],1, inplace= True)\n",
    "Loan_data['verification_status'].replace(['Verified'],2, inplace= True)"
   ]
  },
  {
   "cell_type": "code",
   "execution_count": 43,
   "metadata": {},
   "outputs": [
    {
     "data": {
      "image/png": "[encoded data removed]",
      "text/plain": [
       "<Figure size 1080x270 with 2 Axes>"
      ]
     },
     "metadata": {
      "needs_background": "light"
     },
     "output_type": "display_data"
    }
   ],
   "source": [
    "plot_var('verification_status', 'Verification_Status', continuous=False)"
   ]
  },
  {
   "cell_type": "code",
   "execution_count": 44,
   "metadata": {
    "colab": {
     "base_uri": "https://localhost:8080/",
     "height": 153
    },
    "colab_type": "code",
    "id": "N91mfq00yvQq",
    "outputId": "b57117ce-c5cd-47da-b026-e7cbea65bac0"
   },
   "outputs": [
    {
     "data": {
      "text/plain": [
       "<bound method Series.sort_values of verification_status  default_ind\n",
       "0                    0              0.951556\n",
       "                     1              0.048444\n",
       "1                    0              0.955365\n",
       "                     1              0.044635\n",
       "2                    0              0.929373\n",
       "                     1              0.070627\n",
       "Name: default_ind, dtype: float64>"
      ]
     },
     "execution_count": 44,
     "metadata": {},
     "output_type": "execute_result"
    }
   ],
   "source": [
    "Loan_data.groupby('verification_status')['default_ind'].value_counts(normalize=True).sort_values"
   ]
  },
  {
   "cell_type": "markdown",
   "metadata": {
    "colab_type": "text",
    "id": "JH20DShoy2Si"
   },
   "source": [
    "Inference:\n",
    "Verification Status of Income is plotted against Loans Defaulted using a bar plot . Its evident that the customers with Incomes Verified(not source verified) have a default rate of 6% ."
   ]
  },
  {
   "cell_type": "markdown",
   "metadata": {
    "colab_type": "text",
    "id": "Kq0L35mby63n"
   },
   "source": [
    "# Payment Plan"
   ]
  },
  {
   "cell_type": "code",
   "execution_count": 45,
   "metadata": {
    "colab": {
     "base_uri": "https://localhost:8080/",
     "height": 278
    },
    "colab_type": "code",
    "id": "s_arMN2Ay0nN",
    "outputId": "8c0a2ee3-beaa-4871-e25a-d66302ab2c56"
   },
   "outputs": [
    {
     "data": {
      "image/png": "[encoded data removed]",
      "text/plain": [
       "<Figure size 1080x270 with 2 Axes>"
      ]
     },
     "metadata": {
      "needs_background": "light"
     },
     "output_type": "display_data"
    }
   ],
   "source": [
    "plot_var('pymnt_plan', 'Payment_Plan', continuous=False)"
   ]
  },
  {
   "cell_type": "code",
   "execution_count": 46,
   "metadata": {
    "colab": {
     "base_uri": "https://localhost:8080/",
     "height": 68
    },
    "colab_type": "code",
    "id": "ip8n6YmczEhb",
    "outputId": "ab4c6cc7-0291-4cce-921a-f994d3e880a4"
   },
   "outputs": [
    {
     "data": {
      "text/plain": [
       "n    855964\n",
       "y         5\n",
       "Name: pymnt_plan, dtype: int64"
      ]
     },
     "execution_count": 46,
     "metadata": {},
     "output_type": "execute_result"
    }
   ],
   "source": [
    "Loan_data['pymnt_plan'].value_counts()"
   ]
  },
  {
   "cell_type": "code",
   "execution_count": 47,
   "metadata": {},
   "outputs": [],
   "source": [
    "Loan_data.pymnt_plan = Loan_data.pymnt_plan.map(lambda x: 0 if x == 'n' else 1)"
   ]
  },
  {
   "cell_type": "markdown",
   "metadata": {
    "colab_type": "text",
    "id": "dbxLDE8VzK3I"
   },
   "source": [
    "Inference:Unique Record dominance in the variable.\n",
    "\n",
    "Payment Plan is plotted against Loans defaulted using bar graph . its evident that 99.99% of the customers have no payment plan.\n",
    "\n",
    "Recommendation: Drop Variable"
   ]
  },
  {
   "cell_type": "markdown",
   "metadata": {
    "colab_type": "text",
    "id": "yLvdv8G1zP6c"
   },
   "source": [
    "# Purpose of Loan Applied"
   ]
  },
  {
   "cell_type": "code",
   "execution_count": 48,
   "metadata": {},
   "outputs": [
    {
     "data": {
      "image/png": "[encoded data removed]",
      "text/plain": [
       "<Figure size 1080x270 with 2 Axes>"
      ]
     },
     "metadata": {
      "needs_background": "light"
     },
     "output_type": "display_data"
    }
   ],
   "source": [
    "plot_var('purpose','Purpose', continuous=False)"
   ]
  },
  {
   "cell_type": "code",
   "execution_count": 49,
   "metadata": {},
   "outputs": [
    {
     "data": {
      "text/plain": [
       "debt_consolidation    59.043260\n",
       "credit_card           23.382155\n",
       "home_improvement       5.836193\n",
       "other                  4.783935\n",
       "major_purchase         1.937804\n",
       "small_business         1.143149\n",
       "car                    1.003891\n",
       "medical                0.957161\n",
       "moving                 0.602826\n",
       "vacation               0.530627\n",
       "house                  0.410412\n",
       "wedding                0.266365\n",
       "renewable_energy       0.064138\n",
       "educational            0.038085\n",
       "Name: purpose, dtype: float64"
      ]
     },
     "execution_count": 49,
     "metadata": {},
     "output_type": "execute_result"
    }
   ],
   "source": [
    "(Loan_data.purpose.value_counts(normalize=True)*100)"
   ]
  },
  {
   "cell_type": "code",
   "execution_count": 50,
   "metadata": {
    "colab": {},
    "colab_type": "code",
    "id": "tYUW0krWzISx"
   },
   "outputs": [],
   "source": [
    "Loan_data['purpose'].replace(['educational','renewable_energy','wedding','house','moving','medical','small_business','major_purchase','car','vacation'],'other', inplace= True)"
   ]
  },
  {
   "cell_type": "code",
   "execution_count": 51,
   "metadata": {},
   "outputs": [
    {
     "data": {
      "text/plain": [
       "debt_consolidation    505392\n",
       "credit_card           200144\n",
       "other                 100477\n",
       "home_improvement       49956\n",
       "Name: purpose, dtype: int64"
      ]
     },
     "execution_count": 51,
     "metadata": {},
     "output_type": "execute_result"
    }
   ],
   "source": [
    "Loan_data.purpose.value_counts()"
   ]
  },
  {
   "cell_type": "code",
   "execution_count": 52,
   "metadata": {},
   "outputs": [],
   "source": [
    "Loan_data['purpose'].replace(['other','home_improvement'],0, inplace= True)\n",
    "Loan_data['purpose'].replace(['credit_card'],1, inplace= True)\n",
    "Loan_data['purpose'].replace(['debt_consolidation'],2, inplace= True)"
   ]
  },
  {
   "cell_type": "code",
   "execution_count": 53,
   "metadata": {
    "colab": {
     "base_uri": "https://localhost:8080/",
     "height": 539
    },
    "colab_type": "code",
    "id": "YBwzq3qWz2_E",
    "outputId": "2a8eb14d-8c56-4468-bad9-94bddee2af47"
   },
   "outputs": [
    {
     "data": {
      "image/png": "[encoded data removed]",
      "text/plain": [
       "<Figure size 1080x270 with 2 Axes>"
      ]
     },
     "metadata": {
      "needs_background": "light"
     },
     "output_type": "display_data"
    }
   ],
   "source": [
    "plot_var('purpose','Purpose', continuous=False)"
   ]
  },
  {
   "cell_type": "code",
   "execution_count": 54,
   "metadata": {
    "colab": {
     "base_uri": "https://localhost:8080/",
     "height": 272
    },
    "colab_type": "code",
    "id": "SNShJbtDz-xG",
    "outputId": "c0468690-1e31-44c3-8692-87411f631c49"
   },
   "outputs": [
    {
     "data": {
      "text/plain": [
       "2    0.590433\n",
       "1    0.233822\n",
       "0    0.175746\n",
       "Name: purpose, dtype: float64"
      ]
     },
     "execution_count": 54,
     "metadata": {},
     "output_type": "execute_result"
    }
   ],
   "source": [
    "Loan_data['purpose'].value_counts(normalize=True)"
   ]
  },
  {
   "cell_type": "code",
   "execution_count": 55,
   "metadata": {
    "colab": {
     "base_uri": "https://localhost:8080/",
     "height": 119
    },
    "colab_type": "code",
    "id": "u6fjhxPh0FcS",
    "outputId": "d2743399-b755-449a-fad9-a8236d1edfb1"
   },
   "outputs": [
    {
     "data": {
      "text/plain": [
       "purpose\n",
       "2    0.610950\n",
       "0    0.215615\n",
       "1    0.173435\n",
       "Name: purpose, dtype: float64"
      ]
     },
     "execution_count": 55,
     "metadata": {},
     "output_type": "execute_result"
    }
   ],
   "source": [
    "Loan_data.groupby('default_ind')['purpose'].value_counts(normalize=True)[1]"
   ]
  },
  {
   "cell_type": "markdown",
   "metadata": {
    "colab_type": "text",
    "id": "GpidpI7H0Pmj"
   },
   "source": [
    "Inference:\n",
    "Purpose of Loan is plotted against Loans Defaulted using bar graph. Levels with records less than 4.7% of the total records  in the column are grouped together to minimize the noise level in the column"
   ]
  },
  {
   "cell_type": "markdown",
   "metadata": {
    "colab_type": "text",
    "id": "wNFbE1Si0RWb"
   },
   "source": [
    "# State"
   ]
  },
  {
   "cell_type": "code",
   "execution_count": 56,
   "metadata": {
    "colab": {
     "base_uri": "https://localhost:8080/",
     "height": 638
    },
    "colab_type": "code",
    "id": "OCnvD4vc0MD5",
    "outputId": "b7f4a0df-0e03-46e1-e7b6-fec19308c9b2"
   },
   "outputs": [
    {
     "data": {
      "text/plain": [
       "Text(0.5, 1.0, 'Counts of loan default by states')"
      ]
     },
     "execution_count": 56,
     "metadata": {},
     "output_type": "execute_result"
    },
    {
     "data": {
      "image/png": "[encoded data removed]",
      "text/plain": [
       "<Figure size 864x720 with 1 Axes>"
      ]
     },
     "metadata": {
      "needs_background": "light"
     },
     "output_type": "display_data"
    }
   ],
   "source": [
    "plt.figure(figsize=(12,10))\n",
    "sns.countplot(order= sorted(Loan_data['addr_state'].unique()), y =Loan_data['addr_state'], color='#483D8B', saturation = 1 )\n",
    "plt.xlabel('Counts')\n",
    "plt.ylabel('States')\n",
    "plt.title('Counts of loan default by states')"
   ]
  },
  {
   "cell_type": "code",
   "execution_count": 58,
   "metadata": {},
   "outputs": [
    {
     "data": {
      "text/plain": [
       "CA    14.623427\n",
       "NY     8.308011\n",
       "TX     8.026926\n",
       "FL     6.850599\n",
       "IL     4.016384\n",
       "NJ     3.745580\n",
       "PA     3.534006\n",
       "OH     3.347201\n",
       "GA     3.276170\n",
       "VA     2.948004\n",
       "NC     2.778956\n",
       "MI     2.590631\n",
       "MD     2.360950\n",
       "MA     2.317257\n",
       "AZ     2.300667\n",
       "WA     2.198210\n",
       "CO     2.127530\n",
       "MN     1.801934\n",
       "MO     1.605549\n",
       "IN     1.559402\n",
       "CT     1.523653\n",
       "TN     1.447716\n",
       "NV     1.398649\n",
       "WI     1.308342\n",
       "AL     1.253784\n",
       "OR     1.233923\n",
       "SC     1.203548\n",
       "LA     1.189996\n",
       "KY     0.969544\n",
       "OK     0.906458\n",
       "KS     0.898748\n",
       "AR     0.747574\n",
       "UT     0.707385\n",
       "NM     0.555744\n",
       "HI     0.511701\n",
       "WV     0.496163\n",
       "NH     0.485532\n",
       "RI     0.438450\n",
       "MS     0.426768\n",
       "MT     0.288095\n",
       "DE     0.280618\n",
       "DC     0.278281\n",
       "AK     0.249308\n",
       "WY     0.230616\n",
       "VT     0.204797\n",
       "SD     0.203863\n",
       "NE     0.131313\n",
       "ME     0.057362\n",
       "ND     0.052806\n",
       "ID     0.001051\n",
       "IA     0.000818\n",
       "Name: addr_state, dtype: float64"
      ]
     },
     "execution_count": 58,
     "metadata": {},
     "output_type": "execute_result"
    }
   ],
   "source": [
    "Loan_data['addr_state'].value_counts(normalize=True)*100"
   ]
  },
  {
   "cell_type": "code",
   "execution_count": null,
   "metadata": {},
   "outputs": [],
   "source": [
    "plt.figure(figsize=(12,10))\n",
    "Default_rates = Loan_data.groupby('addr_state')['default_ind'].value_counts(normalize=True).loc[:,1]\n",
    "sns.barplot(y=Default_rates.index, x=Default_rates.values, color='#48D1CC', saturation=1)\n",
    "plt.ylabel('addr_state')\n",
    "plt.title('Default_Rate by State')\n",
    "plt.xlabel('Fraction of Loans Defaulted')"
   ]
  },
  {
   "cell_type": "code",
   "execution_count": 59,
   "metadata": {},
   "outputs": [],
   "source": [
    "Loan_data['addr_state'].replace(['KY','OK','KS','AR','UT','NM','HI','WV','NH','RI','MS','MT','DE','DC','AK','WY','VT','SD','NE','ME','ND','ID','IA'],0,inplace=True)\n",
    "Loan_data['addr_state'].replace(['MN','MO','IN','CT','TN','NV','WI','AL','OR','SC','LA'],1,inplace=True)\n",
    "Loan_data['addr_state'].replace(['VA','NC','MI','MD','MA','AZ','WA','CO'],2, inplace=True)\n",
    "Loan_data['addr_state'].replace(['NJ','PA','OH','GA'],3, inplace=True)\n",
    "Loan_data['addr_state'].replace(['IL'],4,inplace=True)\n",
    "Loan_data['addr_state'].replace(['FL'],6,inplace=True)\n",
    "Loan_data['addr_state'].replace(['NY','TX'],8,inplace=True)\n",
    "Loan_data['addr_state'].replace(['CA'],14,inplace=True)\n"
   ]
  },
  {
   "cell_type": "code",
   "execution_count": 62,
   "metadata": {},
   "outputs": [
    {
     "data": {
      "text/plain": [
       "2     167960\n",
       "8     139822\n",
       "1     132902\n",
       "14    125172\n",
       "3     119005\n",
       "0      78090\n",
       "6      58639\n",
       "4      34379\n",
       "Name: addr_state, dtype: int64"
      ]
     },
     "execution_count": 62,
     "metadata": {},
     "output_type": "execute_result"
    }
   ],
   "source": [
    "Loan_data['addr_state'].value_counts()"
   ]
  },
  {
   "cell_type": "code",
   "execution_count": 63,
   "metadata": {
    "colab": {
     "base_uri": "https://localhost:8080/",
     "height": 391
    },
    "colab_type": "code",
    "id": "a8M93i807DhN",
    "outputId": "9fa3e5c5-79d0-4a0b-b82e-fcd51e1ff07c"
   },
   "outputs": [
    {
     "data": {
      "text/plain": [
       "addr_state\n",
       "4     0.045667\n",
       "0     0.048406\n",
       "8     0.052753\n",
       "1     0.053596\n",
       "3     0.053729\n",
       "2     0.053953\n",
       "14    0.060261\n",
       "6     0.061717\n",
       "Name: default_ind, dtype: float64"
      ]
     },
     "execution_count": 63,
     "metadata": {},
     "output_type": "execute_result"
    }
   ],
   "source": [
    "Loan_data.groupby('addr_state')['default_ind'].value_counts(normalize=True).loc[:,1].sort_values().tail(20)"
   ]
  },
  {
   "cell_type": "code",
   "execution_count": 64,
   "metadata": {},
   "outputs": [
    {
     "data": {
      "image/png": "[encoded data removed]",
      "text/plain": [
       "<Figure size 1080x270 with 2 Axes>"
      ]
     },
     "metadata": {
      "needs_background": "light"
     },
     "output_type": "display_data"
    }
   ],
   "source": [
    "plot_var('addr_state',' State', continuous= False)"
   ]
  },
  {
   "cell_type": "markdown",
   "metadata": {
    "colab_type": "text",
    "id": "VyXZo7I99V9j"
   },
   "source": [
    "Inference :\n",
    "States are plotted against Loans Defaulted using bar garph. From the graph its evident that Iowa and Idaho have the highest dault rates i.e, 14.29% and 11.11% respectively . The Loans Defaulted doesn't vary much across the states . \n",
    "\n"
   ]
  },
  {
   "cell_type": "markdown",
   "metadata": {
    "colab_type": "text",
    "id": "YI6zdW2k9dEa"
   },
   "source": [
    "# Debt to Income Ratio "
   ]
  },
  {
   "cell_type": "code",
   "execution_count": 65,
   "metadata": {
    "colab": {
     "base_uri": "https://localhost:8080/",
     "height": 315
    },
    "colab_type": "code",
    "id": "o9-QiEh29eAs",
    "outputId": "67e0cf0d-9b0c-4d6a-9ad0-980fb7ca75c7"
   },
   "outputs": [
    {
     "data": {
      "text/plain": [
       "Text(0.5, 1.0, 'Debt-to-income Ratio')"
      ]
     },
     "execution_count": 65,
     "metadata": {},
     "output_type": "execute_result"
    },
    {
     "data": {
      "image/png": "[encoded data removed]",
      "text/plain": [
       "<Figure size 720x270 with 1 Axes>"
      ]
     },
     "metadata": {
      "needs_background": "light"
     },
     "output_type": "display_data"
    }
   ],
   "source": [
    "plt.figure(figsize=(8,3), dpi=90)\n",
    "sns.distplot(Loan_data.loc[Loan_data['dti'].notnull() & (Loan_data['dti']<50), 'dti'], kde=False)\n",
    "plt.xlabel('Debt-to-income Ratio')\n",
    "plt.ylabel('Count')\n",
    "plt.title('Debt-to-income Ratio')"
   ]
  },
  {
   "cell_type": "code",
   "execution_count": 66,
   "metadata": {
    "colab": {
     "base_uri": "https://localhost:8080/",
     "height": 142
    },
    "colab_type": "code",
    "id": "VYAilfV8-Jj9",
    "outputId": "9f9305bd-7feb-4698-8945-80bef5f19436"
   },
   "outputs": [
    {
     "data": {
      "text/html": [
       "<div>\n",
       "<style scoped>\n",
       "    .dataframe tbody tr th:only-of-type {\n",
       "        vertical-align: middle;\n",
       "    }\n",
       "\n",
       "    .dataframe tbody tr th {\n",
       "        vertical-align: top;\n",
       "    }\n",
       "\n",
       "    .dataframe thead th {\n",
       "        text-align: right;\n",
       "    }\n",
       "</style>\n",
       "<table border=\"1\" class=\"dataframe\">\n",
       "  <thead>\n",
       "    <tr style=\"text-align: right;\">\n",
       "      <th></th>\n",
       "      <th>count</th>\n",
       "      <th>mean</th>\n",
       "      <th>std</th>\n",
       "      <th>min</th>\n",
       "      <th>25%</th>\n",
       "      <th>50%</th>\n",
       "      <th>75%</th>\n",
       "      <th>max</th>\n",
       "    </tr>\n",
       "    <tr>\n",
       "      <th>default_ind</th>\n",
       "      <th></th>\n",
       "      <th></th>\n",
       "      <th></th>\n",
       "      <th></th>\n",
       "      <th></th>\n",
       "      <th></th>\n",
       "      <th></th>\n",
       "      <th></th>\n",
       "    </tr>\n",
       "  </thead>\n",
       "  <tbody>\n",
       "    <tr>\n",
       "      <th>0</th>\n",
       "      <td>809502.0</td>\n",
       "      <td>18.103677</td>\n",
       "      <td>17.815005</td>\n",
       "      <td>0.0</td>\n",
       "      <td>11.84</td>\n",
       "      <td>17.57</td>\n",
       "      <td>23.88</td>\n",
       "      <td>9999.00</td>\n",
       "    </tr>\n",
       "    <tr>\n",
       "      <th>1</th>\n",
       "      <td>46467.0</td>\n",
       "      <td>18.444234</td>\n",
       "      <td>7.950591</td>\n",
       "      <td>0.0</td>\n",
       "      <td>12.61</td>\n",
       "      <td>18.38</td>\n",
       "      <td>24.14</td>\n",
       "      <td>39.98</td>\n",
       "    </tr>\n",
       "  </tbody>\n",
       "</table>\n",
       "</div>"
      ],
      "text/plain": [
       "                count       mean        std  min    25%    50%    75%      max\n",
       "default_ind                                                                   \n",
       "0            809502.0  18.103677  17.815005  0.0  11.84  17.57  23.88  9999.00\n",
       "1             46467.0  18.444234   7.950591  0.0  12.61  18.38  24.14    39.98"
      ]
     },
     "execution_count": 66,
     "metadata": {},
     "output_type": "execute_result"
    }
   ],
   "source": [
    "Loan_data.groupby('default_ind')['dti'].describe()"
   ]
  },
  {
   "cell_type": "markdown",
   "metadata": {
    "colab_type": "text",
    "id": "m1_ySqEt_M0E"
   },
   "source": [
    "Inference :\n",
    "\n",
    "The debt to income ratio doesnt vary much amongst the defaulters and non-defaulters. Their means vary by 0.34"
   ]
  },
  {
   "cell_type": "markdown",
   "metadata": {
    "colab_type": "text",
    "id": "gXbUd5R3Ama_"
   },
   "source": [
    "# Delinquency in the Last 2 Years"
   ]
  },
  {
   "cell_type": "code",
   "execution_count": 67,
   "metadata": {},
   "outputs": [
    {
     "data": {
      "image/png": "[encoded data removed]",
      "text/plain": [
       "<Figure size 1080x270 with 2 Axes>"
      ]
     },
     "metadata": {
      "needs_background": "light"
     },
     "output_type": "display_data"
    }
   ],
   "source": [
    "plot_var('delinq_2yrs','Delinquency in the Last Two Years', continuous=False)"
   ]
  },
  {
   "cell_type": "code",
   "execution_count": null,
   "metadata": {
    "colab": {},
    "colab_type": "code",
    "id": "oHlGjcg8AU2G"
   },
   "outputs": [],
   "source": [
    "# Loan1['delinq_2yrs'].replace([4,5,6,7,8,9,10,11,12,13,14,15,16,18,17,19,22,26,30,21,20,39,27,29,24],3, inplace= True)"
   ]
  },
  {
   "cell_type": "code",
   "execution_count": 68,
   "metadata": {
    "colab": {
     "base_uri": "https://localhost:8080/",
     "height": 142
    },
    "colab_type": "code",
    "id": "SZzOElzUBESI",
    "outputId": "48981913-1141-4acf-d8e7-875ffbf466f7"
   },
   "outputs": [
    {
     "data": {
      "text/html": [
       "<div>\n",
       "<style scoped>\n",
       "    .dataframe tbody tr th:only-of-type {\n",
       "        vertical-align: middle;\n",
       "    }\n",
       "\n",
       "    .dataframe tbody tr th {\n",
       "        vertical-align: top;\n",
       "    }\n",
       "\n",
       "    .dataframe thead th {\n",
       "        text-align: right;\n",
       "    }\n",
       "</style>\n",
       "<table border=\"1\" class=\"dataframe\">\n",
       "  <thead>\n",
       "    <tr style=\"text-align: right;\">\n",
       "      <th></th>\n",
       "      <th>count</th>\n",
       "      <th>mean</th>\n",
       "      <th>std</th>\n",
       "      <th>min</th>\n",
       "      <th>25%</th>\n",
       "      <th>50%</th>\n",
       "      <th>75%</th>\n",
       "      <th>max</th>\n",
       "    </tr>\n",
       "    <tr>\n",
       "      <th>default_ind</th>\n",
       "      <th></th>\n",
       "      <th></th>\n",
       "      <th></th>\n",
       "      <th></th>\n",
       "      <th></th>\n",
       "      <th></th>\n",
       "      <th></th>\n",
       "      <th></th>\n",
       "    </tr>\n",
       "  </thead>\n",
       "  <tbody>\n",
       "    <tr>\n",
       "      <th>0</th>\n",
       "      <td>809502.0</td>\n",
       "      <td>0.313508</td>\n",
       "      <td>0.860351</td>\n",
       "      <td>0.0</td>\n",
       "      <td>0.0</td>\n",
       "      <td>0.0</td>\n",
       "      <td>0.0</td>\n",
       "      <td>39.0</td>\n",
       "    </tr>\n",
       "    <tr>\n",
       "      <th>1</th>\n",
       "      <td>46467.0</td>\n",
       "      <td>0.278757</td>\n",
       "      <td>0.799408</td>\n",
       "      <td>0.0</td>\n",
       "      <td>0.0</td>\n",
       "      <td>0.0</td>\n",
       "      <td>0.0</td>\n",
       "      <td>18.0</td>\n",
       "    </tr>\n",
       "  </tbody>\n",
       "</table>\n",
       "</div>"
      ],
      "text/plain": [
       "                count      mean       std  min  25%  50%  75%   max\n",
       "default_ind                                                        \n",
       "0            809502.0  0.313508  0.860351  0.0  0.0  0.0  0.0  39.0\n",
       "1             46467.0  0.278757  0.799408  0.0  0.0  0.0  0.0  18.0"
      ]
     },
     "execution_count": 68,
     "metadata": {},
     "output_type": "execute_result"
    }
   ],
   "source": [
    "Loan_data.groupby('default_ind')['delinq_2yrs'].describe()"
   ]
  },
  {
   "cell_type": "code",
   "execution_count": 69,
   "metadata": {},
   "outputs": [
    {
     "data": {
      "text/plain": [
       "0.0    0.809241\n",
       "1.0    0.127029\n",
       "2.0    0.037473\n",
       "3.0    0.013330\n",
       "4.0    0.005931\n",
       "Name: delinq_2yrs, dtype: float64"
      ]
     },
     "execution_count": 69,
     "metadata": {},
     "output_type": "execute_result"
    }
   ],
   "source": [
    "Loan_data['delinq_2yrs'].value_counts(normalize=True).head()"
   ]
  },
  {
   "cell_type": "markdown",
   "metadata": {
    "colab_type": "text",
    "id": "Gv-UJPxsBQJA"
   },
   "source": [
    "Inference:\n",
    "Delinquency in the Last Two Years is Plotted against Loans Defaulted . The default rates do not vary much with  number of delinquencies.  \n",
    "A possible data leaking future information "
   ]
  },
  {
   "cell_type": "markdown",
   "metadata": {},
   "source": [
    "# Inquires in the last  6 months"
   ]
  },
  {
   "cell_type": "code",
   "execution_count": 70,
   "metadata": {},
   "outputs": [
    {
     "data": {
      "image/png": "[encoded data removed]",
      "text/plain": [
       "<Figure size 1080x270 with 2 Axes>"
      ]
     },
     "metadata": {
      "needs_background": "light"
     },
     "output_type": "display_data"
    }
   ],
   "source": [
    "plot_var('inq_last_6mths','Inquiries in the last 6 Months',continuous=False)"
   ]
  },
  {
   "cell_type": "code",
   "execution_count": 71,
   "metadata": {},
   "outputs": [
    {
     "data": {
      "text/html": [
       "<div>\n",
       "<style scoped>\n",
       "    .dataframe tbody tr th:only-of-type {\n",
       "        vertical-align: middle;\n",
       "    }\n",
       "\n",
       "    .dataframe tbody tr th {\n",
       "        vertical-align: top;\n",
       "    }\n",
       "\n",
       "    .dataframe thead th {\n",
       "        text-align: right;\n",
       "    }\n",
       "</style>\n",
       "<table border=\"1\" class=\"dataframe\">\n",
       "  <thead>\n",
       "    <tr style=\"text-align: right;\">\n",
       "      <th></th>\n",
       "      <th>count</th>\n",
       "      <th>mean</th>\n",
       "      <th>std</th>\n",
       "      <th>min</th>\n",
       "      <th>25%</th>\n",
       "      <th>50%</th>\n",
       "      <th>75%</th>\n",
       "      <th>max</th>\n",
       "    </tr>\n",
       "    <tr>\n",
       "      <th>default_ind</th>\n",
       "      <th></th>\n",
       "      <th></th>\n",
       "      <th></th>\n",
       "      <th></th>\n",
       "      <th></th>\n",
       "      <th></th>\n",
       "      <th></th>\n",
       "      <th></th>\n",
       "    </tr>\n",
       "  </thead>\n",
       "  <tbody>\n",
       "    <tr>\n",
       "      <th>0</th>\n",
       "      <td>809502.0</td>\n",
       "      <td>0.663729</td>\n",
       "      <td>0.950922</td>\n",
       "      <td>0.0</td>\n",
       "      <td>0.0</td>\n",
       "      <td>0.0</td>\n",
       "      <td>1.0</td>\n",
       "      <td>8.0</td>\n",
       "    </tr>\n",
       "    <tr>\n",
       "      <th>1</th>\n",
       "      <td>46467.0</td>\n",
       "      <td>0.980309</td>\n",
       "      <td>1.127832</td>\n",
       "      <td>0.0</td>\n",
       "      <td>0.0</td>\n",
       "      <td>1.0</td>\n",
       "      <td>2.0</td>\n",
       "      <td>8.0</td>\n",
       "    </tr>\n",
       "  </tbody>\n",
       "</table>\n",
       "</div>"
      ],
      "text/plain": [
       "                count      mean       std  min  25%  50%  75%  max\n",
       "default_ind                                                       \n",
       "0            809502.0  0.663729  0.950922  0.0  0.0  0.0  1.0  8.0\n",
       "1             46467.0  0.980309  1.127832  0.0  0.0  1.0  2.0  8.0"
      ]
     },
     "execution_count": 71,
     "metadata": {},
     "output_type": "execute_result"
    }
   ],
   "source": [
    "Loan_data.groupby('default_ind')['inq_last_6mths'].describe()"
   ]
  },
  {
   "cell_type": "markdown",
   "metadata": {},
   "source": [
    "Inference:\n",
    "\n",
    "Inquires in the last 6 months in plotted against Loans Defaultes.  Its seen that the customers with highest no of inquires(7) have highest default rate(25%)"
   ]
  },
  {
   "cell_type": "markdown",
   "metadata": {},
   "source": [
    "# Current Open Credit Lines"
   ]
  },
  {
   "cell_type": "code",
   "execution_count": 72,
   "metadata": {},
   "outputs": [
    {
     "data": {
      "text/plain": [
       "77"
      ]
     },
     "execution_count": 72,
     "metadata": {},
     "output_type": "execute_result"
    }
   ],
   "source": [
    "Loan_data['open_acc'].nunique()"
   ]
  },
  {
   "cell_type": "code",
   "execution_count": 73,
   "metadata": {},
   "outputs": [
    {
     "data": {
      "text/plain": [
       "Text(0.5, 0, 'Fraction of Loans Defaulted')"
      ]
     },
     "execution_count": 73,
     "metadata": {},
     "output_type": "execute_result"
    },
    {
     "data": {
      "image/png": "[encoded data removed]",
      "text/plain": [
       "<Figure size 1440x1008 with 1 Axes>"
      ]
     },
     "metadata": {
      "needs_background": "light"
     },
     "output_type": "display_data"
    }
   ],
   "source": [
    "plt.figure(figsize=(20,14))\n",
    "Default_rate = Loan_data.groupby('open_acc')['default_ind'].value_counts(normalize=True).loc[:,1]\n",
    "sns.barplot(x=Default_rate.index, y=Default_rate.values, color='#48D1CC', saturation=1)\n",
    "plt.ylabel('open_acc')\n",
    "plt.title('Default_Rate by open')\n",
    "plt.xlabel('Fraction of Loans Defaulted')"
   ]
  },
  {
   "cell_type": "code",
   "execution_count": 74,
   "metadata": {},
   "outputs": [
    {
     "data": {
      "text/html": [
       "<div>\n",
       "<style scoped>\n",
       "    .dataframe tbody tr th:only-of-type {\n",
       "        vertical-align: middle;\n",
       "    }\n",
       "\n",
       "    .dataframe tbody tr th {\n",
       "        vertical-align: top;\n",
       "    }\n",
       "\n",
       "    .dataframe thead th {\n",
       "        text-align: right;\n",
       "    }\n",
       "</style>\n",
       "<table border=\"1\" class=\"dataframe\">\n",
       "  <thead>\n",
       "    <tr style=\"text-align: right;\">\n",
       "      <th></th>\n",
       "      <th>count</th>\n",
       "      <th>mean</th>\n",
       "      <th>std</th>\n",
       "      <th>min</th>\n",
       "      <th>25%</th>\n",
       "      <th>50%</th>\n",
       "      <th>75%</th>\n",
       "      <th>max</th>\n",
       "    </tr>\n",
       "    <tr>\n",
       "      <th>default_ind</th>\n",
       "      <th></th>\n",
       "      <th></th>\n",
       "      <th></th>\n",
       "      <th></th>\n",
       "      <th></th>\n",
       "      <th></th>\n",
       "      <th></th>\n",
       "      <th></th>\n",
       "    </tr>\n",
       "  </thead>\n",
       "  <tbody>\n",
       "    <tr>\n",
       "      <th>0</th>\n",
       "      <td>809502.0</td>\n",
       "      <td>11.570042</td>\n",
       "      <td>5.327422</td>\n",
       "      <td>0.0</td>\n",
       "      <td>8.0</td>\n",
       "      <td>11.0</td>\n",
       "      <td>14.0</td>\n",
       "      <td>90.0</td>\n",
       "    </tr>\n",
       "    <tr>\n",
       "      <th>1</th>\n",
       "      <td>46467.0</td>\n",
       "      <td>11.061721</td>\n",
       "      <td>4.934646</td>\n",
       "      <td>0.0</td>\n",
       "      <td>8.0</td>\n",
       "      <td>10.0</td>\n",
       "      <td>14.0</td>\n",
       "      <td>76.0</td>\n",
       "    </tr>\n",
       "  </tbody>\n",
       "</table>\n",
       "</div>"
      ],
      "text/plain": [
       "                count       mean       std  min  25%   50%   75%   max\n",
       "default_ind                                                           \n",
       "0            809502.0  11.570042  5.327422  0.0  8.0  11.0  14.0  90.0\n",
       "1             46467.0  11.061721  4.934646  0.0  8.0  10.0  14.0  76.0"
      ]
     },
     "execution_count": 74,
     "metadata": {},
     "output_type": "execute_result"
    }
   ],
   "source": [
    "Loan_data.groupby('default_ind')['open_acc'].describe()"
   ]
  },
  {
   "cell_type": "markdown",
   "metadata": {
    "colab_type": "text",
    "id": "dAAGb3a8YEDO"
   },
   "source": [
    "# Public Records"
   ]
  },
  {
   "cell_type": "code",
   "execution_count": 75,
   "metadata": {
    "colab": {
     "base_uri": "https://localhost:8080/",
     "height": 539
    },
    "colab_type": "code",
    "id": "FYJZGFzCYMY7",
    "outputId": "c132527a-aa25-41f4-cd06-eb1de9b5cdbd"
   },
   "outputs": [
    {
     "data": {
      "image/png": "[encoded data removed]",
      "text/plain": [
       "<Figure size 1080x270 with 2 Axes>"
      ]
     },
     "metadata": {
      "needs_background": "light"
     },
     "output_type": "display_data"
    }
   ],
   "source": [
    "plot_var('pub_rec','Public Records',continuous=False)"
   ]
  },
  {
   "cell_type": "code",
   "execution_count": 76,
   "metadata": {
    "colab": {
     "base_uri": "https://localhost:8080/",
     "height": 142
    },
    "colab_type": "code",
    "id": "xkIkVIoWYbfS",
    "outputId": "3696f55a-8445-407c-9509-03d980f956fe"
   },
   "outputs": [
    {
     "data": {
      "text/html": [
       "<div>\n",
       "<style scoped>\n",
       "    .dataframe tbody tr th:only-of-type {\n",
       "        vertical-align: middle;\n",
       "    }\n",
       "\n",
       "    .dataframe tbody tr th {\n",
       "        vertical-align: top;\n",
       "    }\n",
       "\n",
       "    .dataframe thead th {\n",
       "        text-align: right;\n",
       "    }\n",
       "</style>\n",
       "<table border=\"1\" class=\"dataframe\">\n",
       "  <thead>\n",
       "    <tr style=\"text-align: right;\">\n",
       "      <th></th>\n",
       "      <th>count</th>\n",
       "      <th>mean</th>\n",
       "      <th>std</th>\n",
       "      <th>min</th>\n",
       "      <th>25%</th>\n",
       "      <th>50%</th>\n",
       "      <th>75%</th>\n",
       "      <th>max</th>\n",
       "    </tr>\n",
       "    <tr>\n",
       "      <th>default_ind</th>\n",
       "      <th></th>\n",
       "      <th></th>\n",
       "      <th></th>\n",
       "      <th></th>\n",
       "      <th></th>\n",
       "      <th></th>\n",
       "      <th></th>\n",
       "      <th></th>\n",
       "    </tr>\n",
       "  </thead>\n",
       "  <tbody>\n",
       "    <tr>\n",
       "      <th>0</th>\n",
       "      <td>809502.0</td>\n",
       "      <td>0.197269</td>\n",
       "      <td>0.588149</td>\n",
       "      <td>0.0</td>\n",
       "      <td>0.0</td>\n",
       "      <td>0.0</td>\n",
       "      <td>0.0</td>\n",
       "      <td>86.0</td>\n",
       "    </tr>\n",
       "    <tr>\n",
       "      <th>1</th>\n",
       "      <td>46467.0</td>\n",
       "      <td>0.146943</td>\n",
       "      <td>0.449553</td>\n",
       "      <td>0.0</td>\n",
       "      <td>0.0</td>\n",
       "      <td>0.0</td>\n",
       "      <td>0.0</td>\n",
       "      <td>12.0</td>\n",
       "    </tr>\n",
       "  </tbody>\n",
       "</table>\n",
       "</div>"
      ],
      "text/plain": [
       "                count      mean       std  min  25%  50%  75%   max\n",
       "default_ind                                                        \n",
       "0            809502.0  0.197269  0.588149  0.0  0.0  0.0  0.0  86.0\n",
       "1             46467.0  0.146943  0.449553  0.0  0.0  0.0  0.0  12.0"
      ]
     },
     "execution_count": 76,
     "metadata": {},
     "output_type": "execute_result"
    }
   ],
   "source": [
    "Loan_data.groupby('default_ind')['pub_rec'].describe()"
   ]
  },
  {
   "cell_type": "markdown",
   "metadata": {
    "colab_type": "text",
    "id": "HG3sNlFJYXy2"
   },
   "source": [
    "Inference:\n",
    "\n",
    "Public records are plotted against loans defaults using bar graph. The following are observed:\n",
    "\n",
    "1) Column dominance by the unique value = 0 ( Leads to increase in Bias in the model)\n",
    "\n",
    "2) With increase in the  number of public records its observed that the loan default decreases."
   ]
  },
  {
   "cell_type": "markdown",
   "metadata": {
    "colab_type": "text",
    "id": "jcQZf08NYoPf"
   },
   "source": [
    "# Revolving Balance"
   ]
  },
  {
   "cell_type": "code",
   "execution_count": 77,
   "metadata": {
    "colab": {
     "base_uri": "https://localhost:8080/",
     "height": 278
    },
    "colab_type": "code",
    "id": "IH4GwqlbYT1H",
    "outputId": "5e2f1ecb-3dbf-4556-e93f-dc879254d459"
   },
   "outputs": [
    {
     "data": {
      "image/png": "[encoded data removed]",
      "text/plain": [
       "<Figure size 1080x270 with 2 Axes>"
      ]
     },
     "metadata": {
      "needs_background": "light"
     },
     "output_type": "display_data"
    }
   ],
   "source": [
    "plot_var('revol_bal','Revolving Balance', continuous = True)"
   ]
  },
  {
   "cell_type": "markdown",
   "metadata": {
    "colab_type": "text",
    "id": "9HbJ9RpbYwOq"
   },
   "source": [
    "Inference: Skewed distibution\n",
    "\n",
    "Recommendation:Outlier Treatment and Transformation."
   ]
  },
  {
   "cell_type": "code",
   "execution_count": 78,
   "metadata": {
    "colab": {},
    "colab_type": "code",
    "id": "lj4F7BniYt4Q"
   },
   "outputs": [],
   "source": [
    "#Loan_data['log_revol_bal']= Loan_data['revol_bal'].apply(lambda x:np.log10(x+1))"
   ]
  },
  {
   "cell_type": "code",
   "execution_count": 79,
   "metadata": {
    "colab": {},
    "colab_type": "code",
    "id": "6CELymiWY7Wp"
   },
   "outputs": [],
   "source": [
    "# Loan_data= Loan_data.drop(['log_revol_bal'],axis=1)\n",
    "\n",
    "# Loan1= Loan1.drop(['revol_bal'],axis=1)"
   ]
  },
  {
   "cell_type": "code",
   "execution_count": 80,
   "metadata": {
    "colab": {},
    "colab_type": "code",
    "id": "TF77PzrEY_Fr"
   },
   "outputs": [],
   "source": [
    "#plot_var('log_revol_bal','Log Revol Balance',continuous= True)"
   ]
  },
  {
   "cell_type": "code",
   "execution_count": 81,
   "metadata": {
    "colab": {},
    "colab_type": "code",
    "id": "7wjQIj98ZI8t"
   },
   "outputs": [
    {
     "data": {
      "text/html": [
       "<div>\n",
       "<style scoped>\n",
       "    .dataframe tbody tr th:only-of-type {\n",
       "        vertical-align: middle;\n",
       "    }\n",
       "\n",
       "    .dataframe tbody tr th {\n",
       "        vertical-align: top;\n",
       "    }\n",
       "\n",
       "    .dataframe thead th {\n",
       "        text-align: right;\n",
       "    }\n",
       "</style>\n",
       "<table border=\"1\" class=\"dataframe\">\n",
       "  <thead>\n",
       "    <tr style=\"text-align: right;\">\n",
       "      <th></th>\n",
       "      <th>count</th>\n",
       "      <th>mean</th>\n",
       "      <th>std</th>\n",
       "      <th>min</th>\n",
       "      <th>25%</th>\n",
       "      <th>50%</th>\n",
       "      <th>75%</th>\n",
       "      <th>max</th>\n",
       "    </tr>\n",
       "    <tr>\n",
       "      <th>default_ind</th>\n",
       "      <th></th>\n",
       "      <th></th>\n",
       "      <th></th>\n",
       "      <th></th>\n",
       "      <th></th>\n",
       "      <th></th>\n",
       "      <th></th>\n",
       "      <th></th>\n",
       "    </tr>\n",
       "  </thead>\n",
       "  <tbody>\n",
       "    <tr>\n",
       "      <th>0</th>\n",
       "      <td>809502.0</td>\n",
       "      <td>17020.720867</td>\n",
       "      <td>22463.763549</td>\n",
       "      <td>0.0</td>\n",
       "      <td>6481.0</td>\n",
       "      <td>11939.0</td>\n",
       "      <td>20964.75</td>\n",
       "      <td>2904836.0</td>\n",
       "    </tr>\n",
       "    <tr>\n",
       "      <th>1</th>\n",
       "      <td>46467.0</td>\n",
       "      <td>14990.838574</td>\n",
       "      <td>17411.124621</td>\n",
       "      <td>0.0</td>\n",
       "      <td>6226.5</td>\n",
       "      <td>11349.0</td>\n",
       "      <td>19213.00</td>\n",
       "      <td>1746716.0</td>\n",
       "    </tr>\n",
       "  </tbody>\n",
       "</table>\n",
       "</div>"
      ],
      "text/plain": [
       "                count          mean           std  min     25%      50%  \\\n",
       "default_ind                                                               \n",
       "0            809502.0  17020.720867  22463.763549  0.0  6481.0  11939.0   \n",
       "1             46467.0  14990.838574  17411.124621  0.0  6226.5  11349.0   \n",
       "\n",
       "                  75%        max  \n",
       "default_ind                       \n",
       "0            20964.75  2904836.0  \n",
       "1            19213.00  1746716.0  "
      ]
     },
     "execution_count": 81,
     "metadata": {},
     "output_type": "execute_result"
    }
   ],
   "source": [
    "Loan_data.groupby('default_ind')['revol_bal'].describe()"
   ]
  },
  {
   "cell_type": "markdown",
   "metadata": {
    "colab_type": "text",
    "id": "fhrmfBkpYvZ1"
   },
   "source": [
    "# Revolving Utilization\n"
   ]
  },
  {
   "cell_type": "code",
   "execution_count": 82,
   "metadata": {
    "colab": {
     "base_uri": "https://localhost:8080/",
     "height": 278
    },
    "colab_type": "code",
    "id": "EzY4tDo2ZRai",
    "outputId": "bda32e37-b715-4b5c-f5d6-61e587d6e171"
   },
   "outputs": [
    {
     "data": {
      "image/png": "[encoded data removed]",
      "text/plain": [
       "<Figure size 1080x270 with 2 Axes>"
      ]
     },
     "metadata": {
      "needs_background": "light"
     },
     "output_type": "display_data"
    }
   ],
   "source": [
    "plot_var('revol_util','Revolving Utilization', continuous=True)"
   ]
  },
  {
   "cell_type": "code",
   "execution_count": 83,
   "metadata": {
    "colab": {
     "base_uri": "https://localhost:8080/",
     "height": 142
    },
    "colab_type": "code",
    "id": "ygvOTJQUZUpX",
    "outputId": "e2a82e49-e91b-4fc0-c3b2-810e4aa86032"
   },
   "outputs": [
    {
     "data": {
      "text/html": [
       "<div>\n",
       "<style scoped>\n",
       "    .dataframe tbody tr th:only-of-type {\n",
       "        vertical-align: middle;\n",
       "    }\n",
       "\n",
       "    .dataframe tbody tr th {\n",
       "        vertical-align: top;\n",
       "    }\n",
       "\n",
       "    .dataframe thead th {\n",
       "        text-align: right;\n",
       "    }\n",
       "</style>\n",
       "<table border=\"1\" class=\"dataframe\">\n",
       "  <thead>\n",
       "    <tr style=\"text-align: right;\">\n",
       "      <th></th>\n",
       "      <th>count</th>\n",
       "      <th>mean</th>\n",
       "      <th>std</th>\n",
       "      <th>min</th>\n",
       "      <th>25%</th>\n",
       "      <th>50%</th>\n",
       "      <th>75%</th>\n",
       "      <th>max</th>\n",
       "    </tr>\n",
       "    <tr>\n",
       "      <th>default_ind</th>\n",
       "      <th></th>\n",
       "      <th></th>\n",
       "      <th></th>\n",
       "      <th></th>\n",
       "      <th></th>\n",
       "      <th></th>\n",
       "      <th></th>\n",
       "      <th></th>\n",
       "    </tr>\n",
       "  </thead>\n",
       "  <tbody>\n",
       "    <tr>\n",
       "      <th>0</th>\n",
       "      <td>809502.0</td>\n",
       "      <td>54.766177</td>\n",
       "      <td>23.799776</td>\n",
       "      <td>0.0</td>\n",
       "      <td>37.4</td>\n",
       "      <td>55.6</td>\n",
       "      <td>73.2</td>\n",
       "      <td>892.3</td>\n",
       "    </tr>\n",
       "    <tr>\n",
       "      <th>1</th>\n",
       "      <td>46467.0</td>\n",
       "      <td>59.439342</td>\n",
       "      <td>23.467230</td>\n",
       "      <td>0.0</td>\n",
       "      <td>43.2</td>\n",
       "      <td>61.5</td>\n",
       "      <td>78.0</td>\n",
       "      <td>129.4</td>\n",
       "    </tr>\n",
       "  </tbody>\n",
       "</table>\n",
       "</div>"
      ],
      "text/plain": [
       "                count       mean        std  min   25%   50%   75%    max\n",
       "default_ind                                                              \n",
       "0            809502.0  54.766177  23.799776  0.0  37.4  55.6  73.2  892.3\n",
       "1             46467.0  59.439342  23.467230  0.0  43.2  61.5  78.0  129.4"
      ]
     },
     "execution_count": 83,
     "metadata": {},
     "output_type": "execute_result"
    }
   ],
   "source": [
    "Loan_data.groupby('default_ind')['revol_util'].describe()"
   ]
  },
  {
   "cell_type": "markdown",
   "metadata": {
    "colab_type": "text",
    "id": "FOnxDQtrZgBJ"
   },
   "source": [
    "Inference: Skewed Distribution, Presence of outliers.\n",
    "\n",
    "Recommendation: Normalization and treat outliers\n",
    "\n"
   ]
  },
  {
   "cell_type": "code",
   "execution_count": 84,
   "metadata": {
    "colab": {},
    "colab_type": "code",
    "id": "mkaCgqWaZoCd"
   },
   "outputs": [],
   "source": [
    "# Loan_data['log_revol_util']= Loan_data['revol_util'].apply(lambda x:np.log10(x+1))"
   ]
  },
  {
   "cell_type": "code",
   "execution_count": 85,
   "metadata": {
    "colab": {},
    "colab_type": "code",
    "id": "QyTg3UjVZpgp"
   },
   "outputs": [],
   "source": [
    "# plot_var('log_revol_util','log_revol_util', continuous=True)"
   ]
  },
  {
   "cell_type": "code",
   "execution_count": 86,
   "metadata": {
    "colab": {},
    "colab_type": "code",
    "id": "_OFP4EYsZ0Ku"
   },
   "outputs": [],
   "source": [
    "# Loan_data= Loan_data.drop(['revol_util'], axis=1)"
   ]
  },
  {
   "cell_type": "markdown",
   "metadata": {
    "colab_type": "text",
    "id": "lZGu0MgRaWSl"
   },
   "source": [
    "# Total Credit Lines \n"
   ]
  },
  {
   "cell_type": "code",
   "execution_count": 87,
   "metadata": {},
   "outputs": [
    {
     "data": {
      "text/plain": [
       "134"
      ]
     },
     "execution_count": 87,
     "metadata": {},
     "output_type": "execute_result"
    }
   ],
   "source": [
    "Loan_data['total_acc'].nunique()"
   ]
  },
  {
   "cell_type": "code",
   "execution_count": 88,
   "metadata": {
    "colab": {
     "base_uri": "https://localhost:8080/",
     "height": 638
    },
    "colab_type": "code",
    "id": "hgsSIlSxaPSO",
    "outputId": "a5177bbc-20df-4343-d179-fab5a52b399b"
   },
   "outputs": [
    {
     "data": {
      "image/png": "[encoded data removed]",
      "text/plain": [
       "<Figure size 1080x270 with 2 Axes>"
      ]
     },
     "metadata": {
      "needs_background": "light"
     },
     "output_type": "display_data"
    }
   ],
   "source": [
    "plot_var('total_acc','Total Open Credit Lines', continuous=True)"
   ]
  },
  {
   "cell_type": "code",
   "execution_count": 89,
   "metadata": {
    "colab": {
     "base_uri": "https://localhost:8080/",
     "height": 142
    },
    "colab_type": "code",
    "id": "DCK_rXmGbA1v",
    "outputId": "1896b720-9c31-4b09-8b64-e8aeb22f2d4a"
   },
   "outputs": [
    {
     "data": {
      "text/html": [
       "<div>\n",
       "<style scoped>\n",
       "    .dataframe tbody tr th:only-of-type {\n",
       "        vertical-align: middle;\n",
       "    }\n",
       "\n",
       "    .dataframe tbody tr th {\n",
       "        vertical-align: top;\n",
       "    }\n",
       "\n",
       "    .dataframe thead th {\n",
       "        text-align: right;\n",
       "    }\n",
       "</style>\n",
       "<table border=\"1\" class=\"dataframe\">\n",
       "  <thead>\n",
       "    <tr style=\"text-align: right;\">\n",
       "      <th></th>\n",
       "      <th>count</th>\n",
       "      <th>mean</th>\n",
       "      <th>std</th>\n",
       "      <th>min</th>\n",
       "      <th>25%</th>\n",
       "      <th>50%</th>\n",
       "      <th>75%</th>\n",
       "      <th>max</th>\n",
       "    </tr>\n",
       "    <tr>\n",
       "      <th>default_ind</th>\n",
       "      <th></th>\n",
       "      <th></th>\n",
       "      <th></th>\n",
       "      <th></th>\n",
       "      <th></th>\n",
       "      <th></th>\n",
       "      <th></th>\n",
       "      <th></th>\n",
       "    </tr>\n",
       "  </thead>\n",
       "  <tbody>\n",
       "    <tr>\n",
       "      <th>0</th>\n",
       "      <td>809502.0</td>\n",
       "      <td>25.328980</td>\n",
       "      <td>11.832300</td>\n",
       "      <td>2.0</td>\n",
       "      <td>17.0</td>\n",
       "      <td>24.0</td>\n",
       "      <td>32.0</td>\n",
       "      <td>169.0</td>\n",
       "    </tr>\n",
       "    <tr>\n",
       "      <th>1</th>\n",
       "      <td>46467.0</td>\n",
       "      <td>24.229044</td>\n",
       "      <td>11.532493</td>\n",
       "      <td>2.0</td>\n",
       "      <td>16.0</td>\n",
       "      <td>23.0</td>\n",
       "      <td>31.0</td>\n",
       "      <td>110.0</td>\n",
       "    </tr>\n",
       "  </tbody>\n",
       "</table>\n",
       "</div>"
      ],
      "text/plain": [
       "                count       mean        std  min   25%   50%   75%    max\n",
       "default_ind                                                              \n",
       "0            809502.0  25.328980  11.832300  2.0  17.0  24.0  32.0  169.0\n",
       "1             46467.0  24.229044  11.532493  2.0  16.0  23.0  31.0  110.0"
      ]
     },
     "execution_count": 89,
     "metadata": {},
     "output_type": "execute_result"
    }
   ],
   "source": [
    "Loan_data.groupby('default_ind')['total_acc'].describe()"
   ]
  },
  {
   "cell_type": "markdown",
   "metadata": {
    "colab_type": "text",
    "id": "CPewXpILbRAf"
   },
   "source": [
    "Inference:\n",
    "Total Open credit Lines are plotted against Loan defaults . There is not much difference with increase in no Open Credit lines with respect to deafult .\n",
    "\n",
    "Recommendation: Drop Variable "
   ]
  },
  {
   "cell_type": "markdown",
   "metadata": {
    "colab_type": "text",
    "id": "IYlOPI7KbbQN"
   },
   "source": [
    "# Initial  Listing Status "
   ]
  },
  {
   "cell_type": "code",
   "execution_count": 90,
   "metadata": {
    "colab": {
     "base_uri": "https://localhost:8080/",
     "height": 278
    },
    "colab_type": "code",
    "id": "IFNBy2VxbOZX",
    "outputId": "abe214f2-82c2-41ce-cc6e-8ec566b5ce10"
   },
   "outputs": [
    {
     "data": {
      "image/png": "[encoded data removed]",
      "text/plain": [
       "<Figure size 1080x270 with 2 Axes>"
      ]
     },
     "metadata": {
      "needs_background": "light"
     },
     "output_type": "display_data"
    }
   ],
   "source": [
    "plot_var('initial_list_status','Initial Listing Status', continuous= False)"
   ]
  },
  {
   "cell_type": "code",
   "execution_count": 91,
   "metadata": {
    "colab": {
     "base_uri": "https://localhost:8080/",
     "height": 119
    },
    "colab_type": "code",
    "id": "-deTTQaGbfV8",
    "outputId": "a4049984-cf8f-4977-b4b4-b2f15f36a6bb"
   },
   "outputs": [
    {
     "data": {
      "text/plain": [
       "default_ind  initial_list_status\n",
       "0            f                      0.505192\n",
       "             w                      0.494808\n",
       "1            f                      0.723115\n",
       "             w                      0.276885\n",
       "Name: initial_list_status, dtype: float64"
      ]
     },
     "execution_count": 91,
     "metadata": {},
     "output_type": "execute_result"
    }
   ],
   "source": [
    "Loan_data.groupby('default_ind')['initial_list_status'].value_counts(normalize=True)"
   ]
  },
  {
   "cell_type": "markdown",
   "metadata": {
    "colab_type": "text",
    "id": "JXlKrJxBbojD"
   },
   "source": [
    "Inference:\n",
    "Initial Listing Status is plotted against Loan Defaults. Fractional Loans are riskier loans with a default rate of over 6%"
   ]
  },
  {
   "cell_type": "markdown",
   "metadata": {
    "colab_type": "text",
    "id": "ZcpPwyLZbuiz"
   },
   "source": [
    "# Recoveries"
   ]
  },
  {
   "cell_type": "code",
   "execution_count": 92,
   "metadata": {},
   "outputs": [
    {
     "data": {
      "text/plain": [
       "22627"
      ]
     },
     "execution_count": 92,
     "metadata": {},
     "output_type": "execute_result"
    }
   ],
   "source": [
    "Loan_data['recoveries'].nunique()"
   ]
  },
  {
   "cell_type": "code",
   "execution_count": 93,
   "metadata": {
    "colab": {},
    "colab_type": "code",
    "id": "9xpZrDcMbixW"
   },
   "outputs": [],
   "source": [
    "#plot_var('recoveries','Recoveries',continuous=True)"
   ]
  },
  {
   "cell_type": "code",
   "execution_count": 94,
   "metadata": {
    "colab": {
     "base_uri": "https://localhost:8080/",
     "height": 119
    },
    "colab_type": "code",
    "id": "pF2657ymb1DP",
    "outputId": "ade6cd2d-aafa-4055-a737-c6c07b327430"
   },
   "outputs": [
    {
     "data": {
      "text/plain": [
       "0.00      0.971743\n",
       "200.00    0.000012\n",
       "14.28     0.000011\n",
       "11.70     0.000011\n",
       "100.00    0.000009\n",
       "Name: recoveries, dtype: float64"
      ]
     },
     "execution_count": 94,
     "metadata": {},
     "output_type": "execute_result"
    }
   ],
   "source": [
    "Loan_data['recoveries'].value_counts(normalize=True).head()"
   ]
  },
  {
   "cell_type": "code",
   "execution_count": 95,
   "metadata": {},
   "outputs": [
    {
     "data": {
      "text/plain": [
       "default_ind  recoveries\n",
       "0            0.00          1.000000\n",
       "1            0.00          0.479480\n",
       "             200.00        0.000215\n",
       "             11.70         0.000194\n",
       "             14.28         0.000194\n",
       "             10.00         0.000172\n",
       "             10.40         0.000172\n",
       "             16.50         0.000172\n",
       "             100.00        0.000172\n",
       "             800.00        0.000172\n",
       "             10.08         0.000151\n",
       "             10.20         0.000151\n",
       "             11.20         0.000151\n",
       "             12.00         0.000151\n",
       "             16.80         0.000151\n",
       "             10.35         0.000129\n",
       "             10.56         0.000129\n",
       "             10.66         0.000129\n",
       "             10.92         0.000129\n",
       "             11.16         0.000129\n",
       "             12.24         0.000129\n",
       "             13.20         0.000129\n",
       "             13.44         0.000129\n",
       "             13.50         0.000129\n",
       "             19.20         0.000129\n",
       "             1200.00       0.000129\n",
       "             2500.00       0.000129\n",
       "             3000.00       0.000129\n",
       "             5000.00       0.000129\n",
       "             5200.00       0.000129\n",
       "                             ...   \n",
       "             17295.60      0.000022\n",
       "             17472.51      0.000022\n",
       "             17579.14      0.000022\n",
       "             18173.53      0.000022\n",
       "             18694.32      0.000022\n",
       "             18858.99      0.000022\n",
       "             18920.88      0.000022\n",
       "             19508.26      0.000022\n",
       "             19618.00      0.000022\n",
       "             19915.67      0.000022\n",
       "             20006.53      0.000022\n",
       "             20226.16      0.000022\n",
       "             20502.14      0.000022\n",
       "             20814.35      0.000022\n",
       "             21096.30      0.000022\n",
       "             21810.31      0.000022\n",
       "             21941.26      0.000022\n",
       "             22025.15      0.000022\n",
       "             22482.85      0.000022\n",
       "             22943.37      0.000022\n",
       "             23035.92      0.000022\n",
       "             23184.33      0.000022\n",
       "             24833.68      0.000022\n",
       "             24862.10      0.000022\n",
       "             25000.29      0.000022\n",
       "             26308.47      0.000022\n",
       "             29282.07      0.000022\n",
       "             29623.35      0.000022\n",
       "             31900.52      0.000022\n",
       "             33520.27      0.000022\n",
       "Name: recoveries, Length: 22628, dtype: float64"
      ]
     },
     "execution_count": 95,
     "metadata": {},
     "output_type": "execute_result"
    }
   ],
   "source": [
    "Loan_data.groupby('default_ind')['recoveries'].value_counts(normalize=True)"
   ]
  },
  {
   "cell_type": "markdown",
   "metadata": {
    "colab_type": "text",
    "id": "S7jwocu8cBTr"
   },
   "source": [
    "Inference:\n",
    "Records with 0 comprises 97% of the total records . Thus, considering this variable in the model it to be biased towards the value 0\n",
    "\n",
    "Recommendation: Drop Variable \n",
    "\n"
   ]
  },
  {
   "cell_type": "markdown",
   "metadata": {
    "colab_type": "text",
    "id": "rsYbIpmRcNCG"
   },
   "source": [
    "# Collection Recovery Fee"
   ]
  },
  {
   "cell_type": "code",
   "execution_count": 96,
   "metadata": {
    "colab": {},
    "colab_type": "code",
    "id": "E2C9Rt5ib8WQ"
   },
   "outputs": [],
   "source": [
    "#plot_var('collection_recovery_fee','Collection Recovery Fee', continuous= True)"
   ]
  },
  {
   "cell_type": "code",
   "execution_count": 97,
   "metadata": {
    "colab": {
     "base_uri": "https://localhost:8080/",
     "height": 119
    },
    "colab_type": "code",
    "id": "20DmxGPQcS4u",
    "outputId": "9db1a522-943c-48ab-d589-7f109fb95f4f"
   },
   "outputs": [
    {
     "data": {
      "text/plain": [
       "0.00    0.973089\n",
       "2.00    0.000018\n",
       "4.52    0.000013\n",
       "1.88    0.000013\n",
       "2.52    0.000013\n",
       "Name: collection_recovery_fee, dtype: float64"
      ]
     },
     "execution_count": 97,
     "metadata": {},
     "output_type": "execute_result"
    }
   ],
   "source": [
    "Loan_data['collection_recovery_fee'].value_counts(normalize=True).head()"
   ]
  },
  {
   "cell_type": "markdown",
   "metadata": {
    "colab_type": "text",
    "id": "hOEl6iv6caav"
   },
   "source": [
    "Inference:\n",
    "Column Dominance by value = 0 which comprises 97% of the total records.\n",
    "\n",
    "Recommendation: Drop Variables \n"
   ]
  },
  {
   "cell_type": "markdown",
   "metadata": {
    "colab_type": "text",
    "id": "AlQZQ8UgdF7h"
   },
   "source": [
    "# Collections in the last 12 months excluding medical collections"
   ]
  },
  {
   "cell_type": "code",
   "execution_count": 98,
   "metadata": {
    "colab": {
     "base_uri": "https://localhost:8080/",
     "height": 119
    },
    "colab_type": "code",
    "id": "zB0QQ6YSdCyu",
    "outputId": "0ec16c13-53e6-4020-8828-e1a5763798be"
   },
   "outputs": [
    {
     "data": {
      "text/plain": [
       "0.0    0.986980\n",
       "1.0    0.012057\n",
       "2.0    0.000828\n",
       "3.0    0.000093\n",
       "4.0    0.000026\n",
       "Name: collections_12_mths_ex_med, dtype: float64"
      ]
     },
     "execution_count": 98,
     "metadata": {},
     "output_type": "execute_result"
    }
   ],
   "source": [
    "Loan_data['collections_12_mths_ex_med'].value_counts(normalize= True).head()"
   ]
  },
  {
   "cell_type": "code",
   "execution_count": 99,
   "metadata": {
    "colab": {},
    "colab_type": "code",
    "id": "G1cvk0hxdWfV"
   },
   "outputs": [],
   "source": [
    "#plot_var('collections_12_mths_ex_med','Collections in the last 12 months excluding medical collections', continuous= False)"
   ]
  },
  {
   "cell_type": "markdown",
   "metadata": {
    "colab_type": "text",
    "id": "ZVPG49DSdi5D"
   },
   "source": [
    "Inference:\n",
    "Collections in the last 12 months excluding Medical Collections is plotted against Loans Default . The following is observed:\n",
    "\n",
    "1)Column Dominance shown by the Value=0 , comprising 98.7% of the total records . \n",
    "\n",
    "Recommendation: Drop the Variable "
   ]
  },
  {
   "cell_type": "markdown",
   "metadata": {
    "colab_type": "text",
    "id": "IdnVDu_NeJQl"
   },
   "source": [
    "# Application Type \n"
   ]
  },
  {
   "cell_type": "code",
   "execution_count": 100,
   "metadata": {
    "colab": {
     "base_uri": "https://localhost:8080/",
     "height": 68
    },
    "colab_type": "code",
    "id": "Cgal1Ik-d4ui",
    "outputId": "027da857-610c-42f2-c29b-0be43b49be61"
   },
   "outputs": [
    {
     "data": {
      "text/plain": [
       "INDIVIDUAL    0.999484\n",
       "JOINT         0.000516\n",
       "Name: application_type, dtype: float64"
      ]
     },
     "execution_count": 100,
     "metadata": {},
     "output_type": "execute_result"
    }
   ],
   "source": [
    "Loan_data['application_type'].value_counts(normalize= True)"
   ]
  },
  {
   "cell_type": "code",
   "execution_count": 101,
   "metadata": {
    "colab": {
     "base_uri": "https://localhost:8080/",
     "height": 278
    },
    "colab_type": "code",
    "id": "olBV8TLId3p9",
    "outputId": "e7c658b8-7ff9-4f45-eed0-d87479d3d3ba"
   },
   "outputs": [
    {
     "data": {
      "image/png": "[encoded data removed]",
      "text/plain": [
       "<Figure size 1080x270 with 2 Axes>"
      ]
     },
     "metadata": {
      "needs_background": "light"
     },
     "output_type": "display_data"
    }
   ],
   "source": [
    "plot_var('application_type','Application Type', continuous= False)"
   ]
  },
  {
   "cell_type": "code",
   "execution_count": 102,
   "metadata": {
    "colab": {
     "base_uri": "https://localhost:8080/",
     "height": 102
    },
    "colab_type": "code",
    "id": "v-ipQICTee84",
    "outputId": "48d4c66e-4460-448f-ec6f-6c35b7de1b5f"
   },
   "outputs": [
    {
     "data": {
      "text/plain": [
       "default_ind  application_type\n",
       "0            INDIVIDUAL          809060\n",
       "             JOINT                  442\n",
       "1            INDIVIDUAL           46467\n",
       "Name: application_type, dtype: int64"
      ]
     },
     "execution_count": 102,
     "metadata": {},
     "output_type": "execute_result"
    }
   ],
   "source": [
    "Loan_data.groupby('default_ind')['application_type'].value_counts()"
   ]
  },
  {
   "cell_type": "code",
   "execution_count": 103,
   "metadata": {},
   "outputs": [],
   "source": [
    "Loan_data.application_type = Loan_data.application_type.map(lambda x: 0 if x == 'INDIVIDUAL' else 1)"
   ]
  },
  {
   "cell_type": "markdown",
   "metadata": {
    "colab_type": "text",
    "id": "tok2U29CejQh"
   },
   "source": [
    "Inference:\n",
    "Class dominance exhibited by the application type(Individual) comprising 99.9% of the total records.\n",
    "\n",
    "Recommendation: Drop the variable "
   ]
  },
  {
   "cell_type": "markdown",
   "metadata": {
    "colab_type": "text",
    "id": "Y2lmMNCQeovV"
   },
   "source": [
    "# No of Accounts now Delinquent"
   ]
  },
  {
   "cell_type": "code",
   "execution_count": 104,
   "metadata": {
    "colab": {
     "base_uri": "https://localhost:8080/",
     "height": 119
    },
    "colab_type": "code",
    "id": "55_IhKNeeicl",
    "outputId": "6249aebf-99e6-47d5-bdbf-bde51884ea84"
   },
   "outputs": [
    {
     "data": {
      "text/plain": [
       "0.0    0.995409\n",
       "1.0    0.004314\n",
       "2.0    0.000231\n",
       "3.0    0.000033\n",
       "4.0    0.000007\n",
       "Name: acc_now_delinq, dtype: float64"
      ]
     },
     "execution_count": 104,
     "metadata": {},
     "output_type": "execute_result"
    }
   ],
   "source": [
    "Loan_data['acc_now_delinq'].value_counts(normalize=True).head()"
   ]
  },
  {
   "cell_type": "code",
   "execution_count": 105,
   "metadata": {
    "colab": {
     "base_uri": "https://localhost:8080/",
     "height": 278
    },
    "colab_type": "code",
    "id": "RtowJ4mrey3A",
    "outputId": "fcc6989b-a040-4dad-80de-57abd279eb2d"
   },
   "outputs": [
    {
     "data": {
      "image/png": "[encoded data removed]",
      "text/plain": [
       "<Figure size 1080x270 with 2 Axes>"
      ]
     },
     "metadata": {
      "needs_background": "light"
     },
     "output_type": "display_data"
    }
   ],
   "source": [
    "plot_var('acc_now_delinq','No of Accounts now Delinquent', continuous= False)"
   ]
  },
  {
   "cell_type": "markdown",
   "metadata": {
    "colab_type": "text",
    "id": "gqqi9y-ce9DF"
   },
   "source": [
    "Inference:\n",
    "No of  Accounts now delinquent is plotted against Loan Default. The following observations can be made:\n",
    "\n",
    "1)Column dominance is shown by the unique value = 0( Add bias in the model)\n",
    "\n",
    "2)Higher the number of accounts with delinquencies , higher are the chances of defaulting on the loans.\n",
    "\n",
    "Recommendation: Drop Variable"
   ]
  },
  {
   "cell_type": "markdown",
   "metadata": {
    "colab_type": "text",
    "id": "0B3rXFX_fF7Z"
   },
   "source": [
    "# Total Collection Amount "
   ]
  },
  {
   "cell_type": "code",
   "execution_count": 106,
   "metadata": {
    "colab": {
     "base_uri": "https://localhost:8080/",
     "height": 278
    },
    "colab_type": "code",
    "id": "XcoCkN8be6fe",
    "outputId": "6d880da4-6894-4d2c-8758-e6b7a11af407"
   },
   "outputs": [
    {
     "data": {
      "image/png": "[encoded data removed]",
      "text/plain": [
       "<Figure size 1080x270 with 2 Axes>"
      ]
     },
     "metadata": {
      "needs_background": "light"
     },
     "output_type": "display_data"
    }
   ],
   "source": [
    "plot_var('tot_coll_amt','Total Collection Amount', continuous= True)"
   ]
  },
  {
   "cell_type": "markdown",
   "metadata": {
    "colab_type": "text",
    "id": "-PWm8L-8fSTW"
   },
   "source": [
    "Inference: Skewed distribuitn, Presence of outliers\n",
    "    \n",
    "Recommendation: Transformation and outlier treatment   "
   ]
  },
  {
   "cell_type": "code",
   "execution_count": 107,
   "metadata": {
    "colab": {
     "base_uri": "https://localhost:8080/",
     "height": 119
    },
    "colab_type": "code",
    "id": "ECWCYbWAfKqX",
    "outputId": "9bd0f354-fa46-4f0c-a794-2b05153b8236"
   },
   "outputs": [
    {
     "data": {
      "text/plain": [
       "0.0      0.869628\n",
       "50.0     0.001972\n",
       "100.0    0.001527\n",
       "75.0     0.001166\n",
       "200.0    0.000804\n",
       "Name: tot_coll_amt, dtype: float64"
      ]
     },
     "execution_count": 107,
     "metadata": {},
     "output_type": "execute_result"
    }
   ],
   "source": [
    "Loan_data['tot_coll_amt'].value_counts(normalize=True).head()"
   ]
  },
  {
   "cell_type": "code",
   "execution_count": 108,
   "metadata": {
    "colab": {},
    "colab_type": "code",
    "id": "0nwtqIoHfuUU"
   },
   "outputs": [],
   "source": [
    "# Loan_data=Loan_data.drop(['tot_coll_amt'],axis=1)\n",
    "# Loan1=Loan1.drop(['tot_coll_amt'],axis=1)"
   ]
  },
  {
   "cell_type": "markdown",
   "metadata": {},
   "source": [
    "Recommendation: Drop Variable "
   ]
  },
  {
   "cell_type": "markdown",
   "metadata": {
    "colab_type": "text",
    "id": "9Ol9gATtf74R"
   },
   "source": [
    "# Total Current Balance"
   ]
  },
  {
   "cell_type": "code",
   "execution_count": 109,
   "metadata": {
    "colab": {
     "base_uri": "https://localhost:8080/",
     "height": 278
    },
    "colab_type": "code",
    "id": "ha_aouKrf4VQ",
    "outputId": "2d29fb61-ff31-4349-e6c8-1eacd47d68ef"
   },
   "outputs": [
    {
     "data": {
      "image/png": "[encoded data removed]",
      "text/plain": [
       "<Figure size 1080x270 with 2 Axes>"
      ]
     },
     "metadata": {
      "needs_background": "light"
     },
     "output_type": "display_data"
    }
   ],
   "source": [
    "plot_var('tot_cur_bal','Total Current Balance', continuous=True)"
   ]
  },
  {
   "cell_type": "markdown",
   "metadata": {
    "colab_type": "text",
    "id": "_wYaHNLsgE8T"
   },
   "source": [
    "Inference: skewed Distribution and Presence of outliers\n",
    "\n",
    "Recommendation: Transformation and treatment of outliers"
   ]
  },
  {
   "cell_type": "code",
   "execution_count": 110,
   "metadata": {
    "colab": {},
    "colab_type": "code",
    "id": "8r_l0jFmgAHm"
   },
   "outputs": [],
   "source": [
    "#Loan_data['log_tot_cur_bal']= Loan_data['tot_cur_bal'].apply(lambda x: np.log10(x+1))\n",
    "# Loan1['log_tot_cur_bal']= Loan1['tot_cur_bal'].apply(lambda x: np.log10(x+1))"
   ]
  },
  {
   "cell_type": "code",
   "execution_count": 111,
   "metadata": {
    "colab": {},
    "colab_type": "code",
    "id": "7B6bcI_QgKL9"
   },
   "outputs": [],
   "source": [
    "#Loan_data.groupby('default_ind')['log_tot_cur_bal'].describe()"
   ]
  },
  {
   "cell_type": "code",
   "execution_count": 112,
   "metadata": {
    "colab": {},
    "colab_type": "code",
    "id": "9HcTbI8AgPDQ"
   },
   "outputs": [],
   "source": [
    " #Loan_data=Loan_data.drop(['log_tot_cur_bal'],axis=1)\n",
    "\n",
    "# Loan1=Loan1.drop(['tot_cur_bal'],axis=1)"
   ]
  },
  {
   "cell_type": "markdown",
   "metadata": {
    "colab_type": "text",
    "id": "mwPww6ODgWqC"
   },
   "source": [
    "# Total Revolving High Credit Limit "
   ]
  },
  {
   "cell_type": "code",
   "execution_count": 113,
   "metadata": {
    "colab": {
     "base_uri": "https://localhost:8080/",
     "height": 278
    },
    "colab_type": "code",
    "id": "vn-XS6h3gS_c",
    "outputId": "cfc18e96-8fa4-4b73-9cd0-4238f35a4bdc"
   },
   "outputs": [
    {
     "data": {
      "image/png": "[encoded data removed]",
      "text/plain": [
       "<Figure size 1080x270 with 2 Axes>"
      ]
     },
     "metadata": {
      "needs_background": "light"
     },
     "output_type": "display_data"
    }
   ],
   "source": [
    "plot_var('total_rev_hi_lim','Total Revolving High Credit Limit ', continuous= True)"
   ]
  },
  {
   "cell_type": "markdown",
   "metadata": {
    "colab_type": "text",
    "id": "tEtaZZzXgj1v"
   },
   "source": [
    "Inference: Skewed distribution and presence of outliers\n",
    "\n",
    "Recommendation: Transformation and treatment of outliers"
   ]
  },
  {
   "cell_type": "code",
   "execution_count": 114,
   "metadata": {
    "colab": {},
    "colab_type": "code",
    "id": "sIc9FfsKgcyp"
   },
   "outputs": [],
   "source": [
    "# Loan_data['log_total_rev_hi_lim']=Loan_data['total_rev_hi_lim'].apply(lambda x: np.log10(x+1))\n",
    "# Loan1['log_total_rev_hi_lim']=Loan1['total_rev_hi_lim'].apply(lambda x: np.log10(x+1))"
   ]
  },
  {
   "cell_type": "code",
   "execution_count": 115,
   "metadata": {
    "colab": {},
    "colab_type": "code",
    "id": "hzsZ0CRFgm3J"
   },
   "outputs": [],
   "source": [
    " #Loan_data=Loan_data.drop(['log_total_rev_hi_lim'],axis=1)\n",
    "# Loan1=Loan1.drop(['total_rev_hi_lim'],axis=1)"
   ]
  },
  {
   "cell_type": "code",
   "execution_count": 116,
   "metadata": {
    "colab": {},
    "colab_type": "code",
    "id": "jitMJpSggpd-"
   },
   "outputs": [],
   "source": [
    " #plot_var('log_total_rev_hi_lim','Log_total_rev_hi_lim', continuous=True)"
   ]
  },
  {
   "cell_type": "code",
   "execution_count": 117,
   "metadata": {
    "colab": {},
    "colab_type": "code",
    "id": "fsnKBj-pgskY"
   },
   "outputs": [],
   "source": [
    " #Loan_data.groupby('default_ind')['log_total_rev_hi_lim'].describe()"
   ]
  },
  {
   "cell_type": "markdown",
   "metadata": {
    "colab_type": "text",
    "id": "28Wesqacg27o"
   },
   "source": [
    "# Default Status"
   ]
  },
  {
   "cell_type": "code",
   "execution_count": 118,
   "metadata": {
    "colab": {
     "base_uri": "https://localhost:8080/",
     "height": 68
    },
    "colab_type": "code",
    "id": "LqscmS8WgxX3",
    "outputId": "b734cb18-6cbd-4549-a2d9-960580c603e7"
   },
   "outputs": [
    {
     "data": {
      "text/plain": [
       "0    0.945714\n",
       "1    0.054286\n",
       "Name: default_ind, dtype: float64"
      ]
     },
     "execution_count": 118,
     "metadata": {},
     "output_type": "execute_result"
    }
   ],
   "source": [
    "Loan_data['default_ind'].value_counts(normalize=True)"
   ]
  },
  {
   "cell_type": "code",
   "execution_count": 119,
   "metadata": {
    "colab": {
     "base_uri": "https://localhost:8080/",
     "height": 278
    },
    "colab_type": "code",
    "id": "sEYA7b9lg8we",
    "outputId": "3c70acdf-47ec-47d3-b4e9-ef6cd7a90f86"
   },
   "outputs": [
    {
     "data": {
      "image/png": "[encoded data removed]",
      "text/plain": [
       "<Figure size 1080x270 with 2 Axes>"
      ]
     },
     "metadata": {
      "needs_background": "light"
     },
     "output_type": "display_data"
    }
   ],
   "source": [
    "plot_var('default_ind','Default Status', continuous= False)"
   ]
  },
  {
   "cell_type": "markdown",
   "metadata": {
    "colab_type": "text",
    "id": "boP8C045hItr"
   },
   "source": [
    "Inference: Imbalance in the Response Variable \n",
    "\n",
    "Recommendation: SMOTE Analysis"
   ]
  },
  {
   "cell_type": "markdown",
   "metadata": {
    "colab_type": "text",
    "id": "wXDGuin2hM01"
   },
   "source": [
    "# Dropping Variables based on the inferences made from the visualization"
   ]
  },
  {
   "cell_type": "code",
   "execution_count": 120,
   "metadata": {},
   "outputs": [
    {
     "name": "stdout",
     "output_type": "stream",
     "text": [
      "['loan_amnt', 'term', 'int_rate', 'grade', 'sub_grade', 'emp_length', 'home_ownership', 'annual_inc', 'verification_status', 'issue_d', 'pymnt_plan', 'purpose', 'addr_state', 'dti', 'delinq_2yrs', 'earliest_cr_line', 'inq_last_6mths', 'open_acc', 'pub_rec', 'revol_bal', 'revol_util', 'total_acc', 'initial_list_status', 'recoveries', 'collection_recovery_fee', 'last_credit_pull_d', 'collections_12_mths_ex_med', 'application_type', 'acc_now_delinq', 'tot_coll_amt', 'tot_cur_bal', 'total_rev_hi_lim', 'default_ind']\n"
     ]
    }
   ],
   "source": [
    "print(Loan_data.columns.tolist())"
   ]
  },
  {
   "cell_type": "code",
   "execution_count": 121,
   "metadata": {
    "colab": {},
    "colab_type": "code",
    "id": "JNwgTQslhY8W"
   },
   "outputs": [],
   "source": [
    "Loan=Loan_data.drop(['sub_grade','earliest_cr_line','initial_list_status','last_credit_pull_d','recoveries',\n",
    "                     'collection_recovery_fee','collections_12_mths_ex_med'], axis=1)"
   ]
  },
  {
   "cell_type": "code",
   "execution_count": 122,
   "metadata": {},
   "outputs": [
    {
     "data": {
      "text/plain": [
       "Index(['loan_amnt', 'term', 'int_rate', 'grade', 'emp_length',\n",
       "       'home_ownership', 'annual_inc', 'verification_status', 'issue_d',\n",
       "       'pymnt_plan', 'purpose', 'addr_state', 'dti', 'delinq_2yrs',\n",
       "       'inq_last_6mths', 'open_acc', 'pub_rec', 'revol_bal', 'revol_util',\n",
       "       'total_acc', 'application_type', 'acc_now_delinq', 'tot_coll_amt',\n",
       "       'tot_cur_bal', 'total_rev_hi_lim', 'default_ind'],\n",
       "      dtype='object')"
      ]
     },
     "execution_count": 122,
     "metadata": {},
     "output_type": "execute_result"
    }
   ],
   "source": [
    "Loan.columns"
   ]
  },
  {
   "cell_type": "code",
   "execution_count": 123,
   "metadata": {},
   "outputs": [],
   "source": [
    "Loan.to_csv('Loan_clean.csv')"
   ]
  },
  {
   "cell_type": "code",
   "execution_count": 124,
   "metadata": {},
   "outputs": [],
   "source": [
    "Loan_wd= Loan.drop(['issue_d'], axis=1)\n",
    "Loan_isd= Loan.issue_d"
   ]
  },
  {
   "cell_type": "code",
   "execution_count": 125,
   "metadata": {},
   "outputs": [],
   "source": [
    "data= Loan_wd.drop(['default_ind'],axis=1)"
   ]
  },
  {
   "cell_type": "code",
   "execution_count": 126,
   "metadata": {},
   "outputs": [
    {
     "data": {
      "text/plain": [
       "0    809502\n",
       "1     46467\n",
       "Name: default_ind, dtype: int64"
      ]
     },
     "execution_count": 126,
     "metadata": {},
     "output_type": "execute_result"
    }
   ],
   "source": [
    "scl = preprocessing.StandardScaler() #instance of preprocessing\n",
    "fields = data.columns.values\n",
    "data_clean = pd.DataFrame(scl.fit_transform(data[fields]), columns = fields)\n",
    "data_clean['default_ind'] = Loan_wd['default_ind']\n",
    "data_clean['default_ind'].value_counts()"
   ]
  },
  {
   "cell_type": "code",
   "execution_count": 127,
   "metadata": {},
   "outputs": [],
   "source": [
    "data_scl= pd.concat([data_clean,Loan_isd],axis=1)"
   ]
  },
  {
   "cell_type": "code",
   "execution_count": 128,
   "metadata": {},
   "outputs": [
    {
     "data": {
      "text/html": [
       "<div>\n",
       "<style scoped>\n",
       "    .dataframe tbody tr th:only-of-type {\n",
       "        vertical-align: middle;\n",
       "    }\n",
       "\n",
       "    .dataframe tbody tr th {\n",
       "        vertical-align: top;\n",
       "    }\n",
       "\n",
       "    .dataframe thead th {\n",
       "        text-align: right;\n",
       "    }\n",
       "</style>\n",
       "<table border=\"1\" class=\"dataframe\">\n",
       "  <thead>\n",
       "    <tr style=\"text-align: right;\">\n",
       "      <th></th>\n",
       "      <th>loan_amnt</th>\n",
       "      <th>term</th>\n",
       "      <th>int_rate</th>\n",
       "      <th>grade</th>\n",
       "      <th>emp_length</th>\n",
       "      <th>home_ownership</th>\n",
       "      <th>annual_inc</th>\n",
       "      <th>verification_status</th>\n",
       "      <th>pymnt_plan</th>\n",
       "      <th>purpose</th>\n",
       "      <th>addr_state</th>\n",
       "      <th>dti</th>\n",
       "      <th>delinq_2yrs</th>\n",
       "      <th>inq_last_6mths</th>\n",
       "      <th>open_acc</th>\n",
       "      <th>pub_rec</th>\n",
       "      <th>revol_bal</th>\n",
       "      <th>revol_util</th>\n",
       "      <th>total_acc</th>\n",
       "      <th>application_type</th>\n",
       "      <th>acc_now_delinq</th>\n",
       "      <th>tot_coll_amt</th>\n",
       "      <th>tot_cur_bal</th>\n",
       "      <th>total_rev_hi_lim</th>\n",
       "      <th>default_ind</th>\n",
       "      <th>issue_d</th>\n",
       "    </tr>\n",
       "  </thead>\n",
       "  <tbody>\n",
       "    <tr>\n",
       "      <th>0</th>\n",
       "      <td>-1.156698</td>\n",
       "      <td>-0.652755</td>\n",
       "      <td>-0.581985</td>\n",
       "      <td>-0.596218</td>\n",
       "      <td>1.028757</td>\n",
       "      <td>-1.093373</td>\n",
       "      <td>-0.794704</td>\n",
       "      <td>1.229388</td>\n",
       "      <td>-0.002417</td>\n",
       "      <td>-0.537959</td>\n",
       "      <td>-0.638436</td>\n",
       "      <td>0.546834</td>\n",
       "      <td>-0.363538</td>\n",
       "      <td>0.330990</td>\n",
       "      <td>-1.609326</td>\n",
       "      <td>-0.334495</td>\n",
       "      <td>-0.146804</td>\n",
       "      <td>1.204776</td>\n",
       "      <td>-1.376554</td>\n",
       "      <td>-0.02273</td>\n",
       "      <td>-0.063932</td>\n",
       "      <td>-0.020627</td>\n",
       "      <td>-0.3643</td>\n",
       "      <td>-0.212535</td>\n",
       "      <td>0</td>\n",
       "      <td>Dec-2011</td>\n",
       "    </tr>\n",
       "    <tr>\n",
       "      <th>1</th>\n",
       "      <td>-1.453422</td>\n",
       "      <td>1.531967</td>\n",
       "      <td>0.475620</td>\n",
       "      <td>0.170277</td>\n",
       "      <td>-1.692526</td>\n",
       "      <td>-1.093373</td>\n",
       "      <td>-0.701340</td>\n",
       "      <td>-0.032896</td>\n",
       "      <td>-0.002417</td>\n",
       "      <td>-1.835224</td>\n",
       "      <td>-0.417567</td>\n",
       "      <td>-0.982699</td>\n",
       "      <td>-0.363538</td>\n",
       "      <td>4.480228</td>\n",
       "      <td>-1.609326</td>\n",
       "      <td>-0.334495</td>\n",
       "      <td>-0.685012</td>\n",
       "      <td>-1.916368</td>\n",
       "      <td>-1.799608</td>\n",
       "      <td>-0.02273</td>\n",
       "      <td>-0.063932</td>\n",
       "      <td>-0.020627</td>\n",
       "      <td>-0.3643</td>\n",
       "      <td>-0.212535</td>\n",
       "      <td>1</td>\n",
       "      <td>Dec-2011</td>\n",
       "    </tr>\n",
       "    <tr>\n",
       "      <th>2</th>\n",
       "      <td>-1.465291</td>\n",
       "      <td>-0.652755</td>\n",
       "      <td>0.633574</td>\n",
       "      <td>0.170277</td>\n",
       "      <td>1.028757</td>\n",
       "      <td>-1.093373</td>\n",
       "      <td>-0.977511</td>\n",
       "      <td>-1.295180</td>\n",
       "      <td>-0.002417</td>\n",
       "      <td>-1.835224</td>\n",
       "      <td>-0.196698</td>\n",
       "      <td>-0.539622</td>\n",
       "      <td>-0.363538</td>\n",
       "      <td>1.368299</td>\n",
       "      <td>-1.797718</td>\n",
       "      <td>-0.334495</td>\n",
       "      <td>-0.627911</td>\n",
       "      <td>1.826484</td>\n",
       "      <td>-1.291944</td>\n",
       "      <td>-0.02273</td>\n",
       "      <td>-0.063932</td>\n",
       "      <td>-0.020627</td>\n",
       "      <td>-0.3643</td>\n",
       "      <td>-0.212535</td>\n",
       "      <td>0</td>\n",
       "      <td>Dec-2011</td>\n",
       "    </tr>\n",
       "    <tr>\n",
       "      <th>3</th>\n",
       "      <td>-0.563250</td>\n",
       "      <td>-0.652755</td>\n",
       "      <td>0.068145</td>\n",
       "      <td>0.170277</td>\n",
       "      <td>1.028757</td>\n",
       "      <td>-1.093373</td>\n",
       "      <td>-0.402574</td>\n",
       "      <td>-0.032896</td>\n",
       "      <td>-0.002417</td>\n",
       "      <td>-1.835224</td>\n",
       "      <td>2.011991</td>\n",
       "      <td>0.107775</td>\n",
       "      <td>-0.363538</td>\n",
       "      <td>0.330990</td>\n",
       "      <td>-0.290584</td>\n",
       "      <td>-0.334495</td>\n",
       "      <td>-0.509029</td>\n",
       "      <td>-1.429083</td>\n",
       "      <td>0.992546</td>\n",
       "      <td>-0.02273</td>\n",
       "      <td>-0.063932</td>\n",
       "      <td>-0.020627</td>\n",
       "      <td>-0.3643</td>\n",
       "      <td>-0.212535</td>\n",
       "      <td>0</td>\n",
       "      <td>Dec-2011</td>\n",
       "    </tr>\n",
       "    <tr>\n",
       "      <th>4</th>\n",
       "      <td>-1.394078</td>\n",
       "      <td>1.531967</td>\n",
       "      <td>-0.114990</td>\n",
       "      <td>-0.596218</td>\n",
       "      <td>-1.420398</td>\n",
       "      <td>-1.093373</td>\n",
       "      <td>0.076696</td>\n",
       "      <td>-0.032896</td>\n",
       "      <td>-0.002417</td>\n",
       "      <td>-1.835224</td>\n",
       "      <td>-0.859304</td>\n",
       "      <td>-0.010455</td>\n",
       "      <td>-0.363538</td>\n",
       "      <td>-0.706319</td>\n",
       "      <td>0.651374</td>\n",
       "      <td>-0.334495</td>\n",
       "      <td>0.489228</td>\n",
       "      <td>-0.047042</td>\n",
       "      <td>1.077156</td>\n",
       "      <td>-0.02273</td>\n",
       "      <td>-0.063932</td>\n",
       "      <td>-0.020627</td>\n",
       "      <td>-0.3643</td>\n",
       "      <td>-0.212535</td>\n",
       "      <td>0</td>\n",
       "      <td>Dec-2011</td>\n",
       "    </tr>\n",
       "  </tbody>\n",
       "</table>\n",
       "</div>"
      ],
      "text/plain": [
       "   loan_amnt      term  int_rate     grade  emp_length  home_ownership  \\\n",
       "0  -1.156698 -0.652755 -0.581985 -0.596218    1.028757       -1.093373   \n",
       "1  -1.453422  1.531967  0.475620  0.170277   -1.692526       -1.093373   \n",
       "2  -1.465291 -0.652755  0.633574  0.170277    1.028757       -1.093373   \n",
       "3  -0.563250 -0.652755  0.068145  0.170277    1.028757       -1.093373   \n",
       "4  -1.394078  1.531967 -0.114990 -0.596218   -1.420398       -1.093373   \n",
       "\n",
       "   annual_inc  verification_status  pymnt_plan   purpose  addr_state  \\\n",
       "0   -0.794704             1.229388   -0.002417 -0.537959   -0.638436   \n",
       "1   -0.701340            -0.032896   -0.002417 -1.835224   -0.417567   \n",
       "2   -0.977511            -1.295180   -0.002417 -1.835224   -0.196698   \n",
       "3   -0.402574            -0.032896   -0.002417 -1.835224    2.011991   \n",
       "4    0.076696            -0.032896   -0.002417 -1.835224   -0.859304   \n",
       "\n",
       "        dti  delinq_2yrs  inq_last_6mths  open_acc   pub_rec  revol_bal  \\\n",
       "0  0.546834    -0.363538        0.330990 -1.609326 -0.334495  -0.146804   \n",
       "1 -0.982699    -0.363538        4.480228 -1.609326 -0.334495  -0.685012   \n",
       "2 -0.539622    -0.363538        1.368299 -1.797718 -0.334495  -0.627911   \n",
       "3  0.107775    -0.363538        0.330990 -0.290584 -0.334495  -0.509029   \n",
       "4 -0.010455    -0.363538       -0.706319  0.651374 -0.334495   0.489228   \n",
       "\n",
       "   revol_util  total_acc  application_type  acc_now_delinq  tot_coll_amt  \\\n",
       "0    1.204776  -1.376554          -0.02273       -0.063932     -0.020627   \n",
       "1   -1.916368  -1.799608          -0.02273       -0.063932     -0.020627   \n",
       "2    1.826484  -1.291944          -0.02273       -0.063932     -0.020627   \n",
       "3   -1.429083   0.992546          -0.02273       -0.063932     -0.020627   \n",
       "4   -0.047042   1.077156          -0.02273       -0.063932     -0.020627   \n",
       "\n",
       "   tot_cur_bal  total_rev_hi_lim  default_ind   issue_d  \n",
       "0      -0.3643         -0.212535            0  Dec-2011  \n",
       "1      -0.3643         -0.212535            1  Dec-2011  \n",
       "2      -0.3643         -0.212535            0  Dec-2011  \n",
       "3      -0.3643         -0.212535            0  Dec-2011  \n",
       "4      -0.3643         -0.212535            0  Dec-2011  "
      ]
     },
     "execution_count": 128,
     "metadata": {},
     "output_type": "execute_result"
    }
   ],
   "source": [
    "data_scl.head()"
   ]
  },
  {
   "cell_type": "code",
   "execution_count": 129,
   "metadata": {},
   "outputs": [],
   "source": [
    "import datetime\n",
    "data_scl['issue_d'] = pd.to_datetime(data_scl['issue_d'])\n",
    "data_scl = data_scl.set_index(data_scl['issue_d'])\n",
    "data_scl=data_scl.sort_index()\n",
    "data_scl=data_scl.drop(['issue_d'], axis=1)"
   ]
  },
  {
   "cell_type": "code",
   "execution_count": 130,
   "metadata": {},
   "outputs": [],
   "source": [
    "data_train = data_scl['2007-06-10':'2015-05-20']\n",
    "data_test  = data_scl['2015-05-21':]"
   ]
  },
  {
   "cell_type": "code",
   "execution_count": 131,
   "metadata": {},
   "outputs": [],
   "source": [
    "data_scl.to_csv('data_scale.csv')"
   ]
  },
  {
   "cell_type": "code",
   "execution_count": 132,
   "metadata": {},
   "outputs": [],
   "source": [
    "data_train.to_csv('train.csv')\n",
    "\n",
    "data_test.to_csv('test.csv')"
   ]
  },
  {
   "cell_type": "code",
   "execution_count": 133,
   "metadata": {},
   "outputs": [
    {
     "name": "stdout",
     "output_type": "stream",
     "text": [
      "X_train Dataset: (598977, 24)\n",
      "y_train Dataset: (598977,)\n",
      "X_test Dataset: (256991, 24)\n",
      "y_test Dataset: (256991,)\n"
     ]
    }
   ],
   "source": [
    "X_train= data_train.drop(['default_ind'],axis=1)\n",
    "y_train=data_train['default_ind']\n",
    "\n",
    "X_test = data_test.drop(['default_ind'],axis=1)\n",
    "y_test=data_test['default_ind']\n",
    "\n",
    "\n",
    "print('X_train Dataset:',X_train.shape)\n",
    "print('y_train Dataset:',y_train.shape)\n",
    "\n",
    "print('X_test Dataset:',X_test.shape)\n",
    "print('y_test Dataset:',y_test.shape)"
   ]
  },
  {
   "cell_type": "code",
   "execution_count": null,
   "metadata": {},
   "outputs": [],
   "source": []
  }
 ],
 "metadata": {
  "accelerator": "GPU",
  "colab": {
   "collapsed_sections": [],
   "name": "Untitled0.ipynb",
   "provenance": [],
   "version": "0.3.2"
  },
  "kernelspec": {
   "display_name": "Python 3",
   "language": "python",
   "name": "python3"
  },
  "language_info": {
   "codemirror_mode": {
    "name": "ipython",
    "version": 3
   },
   "file_extension": ".py",
   "mimetype": "text/x-python",
   "name": "python",
   "nbconvert_exporter": "python",
   "pygments_lexer": "ipython3",
   "version": "3.7.3"
  }
 },
 "nbformat": 4,
 "nbformat_minor": 1
}
